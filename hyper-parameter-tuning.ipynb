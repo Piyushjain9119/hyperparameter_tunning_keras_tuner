{
 "cells": [
  {
   "cell_type": "code",
   "execution_count": 1,
   "id": "26570b83-4e33-4d3d-9cc3-7eeba62fa9e7",
   "metadata": {
    "tags": []
   },
   "outputs": [],
   "source": [
    "import numpy as np \n",
    "import pandas as pd"
   ]
  },
  {
   "cell_type": "code",
   "execution_count": 2,
   "id": "37e559cd-d3a0-4800-a2f2-decc64105ea4",
   "metadata": {
    "tags": []
   },
   "outputs": [],
   "source": [
    "df = pd.read_csv(\"diabetes.csv\")"
   ]
  },
  {
   "cell_type": "code",
   "execution_count": 3,
   "id": "ce9b931a-5256-42aa-97ea-b1e217dc67d6",
   "metadata": {
    "tags": []
   },
   "outputs": [
    {
     "data": {
      "text/html": [
       "<div>\n",
       "<style scoped>\n",
       "    .dataframe tbody tr th:only-of-type {\n",
       "        vertical-align: middle;\n",
       "    }\n",
       "\n",
       "    .dataframe tbody tr th {\n",
       "        vertical-align: top;\n",
       "    }\n",
       "\n",
       "    .dataframe thead th {\n",
       "        text-align: right;\n",
       "    }\n",
       "</style>\n",
       "<table border=\"1\" class=\"dataframe\">\n",
       "  <thead>\n",
       "    <tr style=\"text-align: right;\">\n",
       "      <th></th>\n",
       "      <th>Pregnancies</th>\n",
       "      <th>Glucose</th>\n",
       "      <th>BloodPressure</th>\n",
       "      <th>SkinThickness</th>\n",
       "      <th>Insulin</th>\n",
       "      <th>BMI</th>\n",
       "      <th>DiabetesPedigreeFunction</th>\n",
       "      <th>Age</th>\n",
       "      <th>Outcome</th>\n",
       "    </tr>\n",
       "  </thead>\n",
       "  <tbody>\n",
       "    <tr>\n",
       "      <th>0</th>\n",
       "      <td>6</td>\n",
       "      <td>148</td>\n",
       "      <td>72</td>\n",
       "      <td>35</td>\n",
       "      <td>0</td>\n",
       "      <td>33.6</td>\n",
       "      <td>0.627</td>\n",
       "      <td>50</td>\n",
       "      <td>1</td>\n",
       "    </tr>\n",
       "    <tr>\n",
       "      <th>1</th>\n",
       "      <td>1</td>\n",
       "      <td>85</td>\n",
       "      <td>66</td>\n",
       "      <td>29</td>\n",
       "      <td>0</td>\n",
       "      <td>26.6</td>\n",
       "      <td>0.351</td>\n",
       "      <td>31</td>\n",
       "      <td>0</td>\n",
       "    </tr>\n",
       "    <tr>\n",
       "      <th>2</th>\n",
       "      <td>8</td>\n",
       "      <td>183</td>\n",
       "      <td>64</td>\n",
       "      <td>0</td>\n",
       "      <td>0</td>\n",
       "      <td>23.3</td>\n",
       "      <td>0.672</td>\n",
       "      <td>32</td>\n",
       "      <td>1</td>\n",
       "    </tr>\n",
       "    <tr>\n",
       "      <th>3</th>\n",
       "      <td>1</td>\n",
       "      <td>89</td>\n",
       "      <td>66</td>\n",
       "      <td>23</td>\n",
       "      <td>94</td>\n",
       "      <td>28.1</td>\n",
       "      <td>0.167</td>\n",
       "      <td>21</td>\n",
       "      <td>0</td>\n",
       "    </tr>\n",
       "    <tr>\n",
       "      <th>4</th>\n",
       "      <td>0</td>\n",
       "      <td>137</td>\n",
       "      <td>40</td>\n",
       "      <td>35</td>\n",
       "      <td>168</td>\n",
       "      <td>43.1</td>\n",
       "      <td>2.288</td>\n",
       "      <td>33</td>\n",
       "      <td>1</td>\n",
       "    </tr>\n",
       "  </tbody>\n",
       "</table>\n",
       "</div>"
      ],
      "text/plain": [
       "   Pregnancies  Glucose  BloodPressure  SkinThickness  Insulin   BMI   \n",
       "0            6      148             72             35        0  33.6  \\\n",
       "1            1       85             66             29        0  26.6   \n",
       "2            8      183             64              0        0  23.3   \n",
       "3            1       89             66             23       94  28.1   \n",
       "4            0      137             40             35      168  43.1   \n",
       "\n",
       "   DiabetesPedigreeFunction  Age  Outcome  \n",
       "0                     0.627   50        1  \n",
       "1                     0.351   31        0  \n",
       "2                     0.672   32        1  \n",
       "3                     0.167   21        0  \n",
       "4                     2.288   33        1  "
      ]
     },
     "execution_count": 3,
     "metadata": {},
     "output_type": "execute_result"
    }
   ],
   "source": [
    "df.head()"
   ]
  },
  {
   "cell_type": "code",
   "execution_count": 4,
   "id": "e0261a36-bfc4-4b45-a5ef-30e94648c1e9",
   "metadata": {
    "tags": []
   },
   "outputs": [
    {
     "data": {
      "text/plain": [
       "Pregnancies                 0.221898\n",
       "Glucose                     0.466581\n",
       "BloodPressure               0.065068\n",
       "SkinThickness               0.074752\n",
       "Insulin                     0.130548\n",
       "BMI                         0.292695\n",
       "DiabetesPedigreeFunction    0.173844\n",
       "Age                         0.238356\n",
       "Outcome                     1.000000\n",
       "Name: Outcome, dtype: float64"
      ]
     },
     "execution_count": 4,
     "metadata": {},
     "output_type": "execute_result"
    }
   ],
   "source": [
    "df.corr()['Outcome']"
   ]
  },
  {
   "cell_type": "code",
   "execution_count": 5,
   "id": "218aff63-4429-4ebe-8d7b-46df38e1f000",
   "metadata": {
    "tags": []
   },
   "outputs": [],
   "source": [
    "X = df.iloc[:,:-1]\n",
    "y = df.iloc[:,-1]"
   ]
  },
  {
   "cell_type": "code",
   "execution_count": 6,
   "id": "528f76d3-e250-4159-8e63-26a4ba2d945f",
   "metadata": {
    "tags": []
   },
   "outputs": [
    {
     "data": {
      "text/html": [
       "<div>\n",
       "<style scoped>\n",
       "    .dataframe tbody tr th:only-of-type {\n",
       "        vertical-align: middle;\n",
       "    }\n",
       "\n",
       "    .dataframe tbody tr th {\n",
       "        vertical-align: top;\n",
       "    }\n",
       "\n",
       "    .dataframe thead th {\n",
       "        text-align: right;\n",
       "    }\n",
       "</style>\n",
       "<table border=\"1\" class=\"dataframe\">\n",
       "  <thead>\n",
       "    <tr style=\"text-align: right;\">\n",
       "      <th></th>\n",
       "      <th>Pregnancies</th>\n",
       "      <th>Glucose</th>\n",
       "      <th>BloodPressure</th>\n",
       "      <th>SkinThickness</th>\n",
       "      <th>Insulin</th>\n",
       "      <th>BMI</th>\n",
       "      <th>DiabetesPedigreeFunction</th>\n",
       "      <th>Age</th>\n",
       "    </tr>\n",
       "  </thead>\n",
       "  <tbody>\n",
       "    <tr>\n",
       "      <th>0</th>\n",
       "      <td>6</td>\n",
       "      <td>148</td>\n",
       "      <td>72</td>\n",
       "      <td>35</td>\n",
       "      <td>0</td>\n",
       "      <td>33.6</td>\n",
       "      <td>0.627</td>\n",
       "      <td>50</td>\n",
       "    </tr>\n",
       "    <tr>\n",
       "      <th>1</th>\n",
       "      <td>1</td>\n",
       "      <td>85</td>\n",
       "      <td>66</td>\n",
       "      <td>29</td>\n",
       "      <td>0</td>\n",
       "      <td>26.6</td>\n",
       "      <td>0.351</td>\n",
       "      <td>31</td>\n",
       "    </tr>\n",
       "    <tr>\n",
       "      <th>2</th>\n",
       "      <td>8</td>\n",
       "      <td>183</td>\n",
       "      <td>64</td>\n",
       "      <td>0</td>\n",
       "      <td>0</td>\n",
       "      <td>23.3</td>\n",
       "      <td>0.672</td>\n",
       "      <td>32</td>\n",
       "    </tr>\n",
       "    <tr>\n",
       "      <th>3</th>\n",
       "      <td>1</td>\n",
       "      <td>89</td>\n",
       "      <td>66</td>\n",
       "      <td>23</td>\n",
       "      <td>94</td>\n",
       "      <td>28.1</td>\n",
       "      <td>0.167</td>\n",
       "      <td>21</td>\n",
       "    </tr>\n",
       "    <tr>\n",
       "      <th>4</th>\n",
       "      <td>0</td>\n",
       "      <td>137</td>\n",
       "      <td>40</td>\n",
       "      <td>35</td>\n",
       "      <td>168</td>\n",
       "      <td>43.1</td>\n",
       "      <td>2.288</td>\n",
       "      <td>33</td>\n",
       "    </tr>\n",
       "    <tr>\n",
       "      <th>...</th>\n",
       "      <td>...</td>\n",
       "      <td>...</td>\n",
       "      <td>...</td>\n",
       "      <td>...</td>\n",
       "      <td>...</td>\n",
       "      <td>...</td>\n",
       "      <td>...</td>\n",
       "      <td>...</td>\n",
       "    </tr>\n",
       "    <tr>\n",
       "      <th>763</th>\n",
       "      <td>10</td>\n",
       "      <td>101</td>\n",
       "      <td>76</td>\n",
       "      <td>48</td>\n",
       "      <td>180</td>\n",
       "      <td>32.9</td>\n",
       "      <td>0.171</td>\n",
       "      <td>63</td>\n",
       "    </tr>\n",
       "    <tr>\n",
       "      <th>764</th>\n",
       "      <td>2</td>\n",
       "      <td>122</td>\n",
       "      <td>70</td>\n",
       "      <td>27</td>\n",
       "      <td>0</td>\n",
       "      <td>36.8</td>\n",
       "      <td>0.340</td>\n",
       "      <td>27</td>\n",
       "    </tr>\n",
       "    <tr>\n",
       "      <th>765</th>\n",
       "      <td>5</td>\n",
       "      <td>121</td>\n",
       "      <td>72</td>\n",
       "      <td>23</td>\n",
       "      <td>112</td>\n",
       "      <td>26.2</td>\n",
       "      <td>0.245</td>\n",
       "      <td>30</td>\n",
       "    </tr>\n",
       "    <tr>\n",
       "      <th>766</th>\n",
       "      <td>1</td>\n",
       "      <td>126</td>\n",
       "      <td>60</td>\n",
       "      <td>0</td>\n",
       "      <td>0</td>\n",
       "      <td>30.1</td>\n",
       "      <td>0.349</td>\n",
       "      <td>47</td>\n",
       "    </tr>\n",
       "    <tr>\n",
       "      <th>767</th>\n",
       "      <td>1</td>\n",
       "      <td>93</td>\n",
       "      <td>70</td>\n",
       "      <td>31</td>\n",
       "      <td>0</td>\n",
       "      <td>30.4</td>\n",
       "      <td>0.315</td>\n",
       "      <td>23</td>\n",
       "    </tr>\n",
       "  </tbody>\n",
       "</table>\n",
       "<p>768 rows × 8 columns</p>\n",
       "</div>"
      ],
      "text/plain": [
       "     Pregnancies  Glucose  BloodPressure  SkinThickness  Insulin   BMI   \n",
       "0              6      148             72             35        0  33.6  \\\n",
       "1              1       85             66             29        0  26.6   \n",
       "2              8      183             64              0        0  23.3   \n",
       "3              1       89             66             23       94  28.1   \n",
       "4              0      137             40             35      168  43.1   \n",
       "..           ...      ...            ...            ...      ...   ...   \n",
       "763           10      101             76             48      180  32.9   \n",
       "764            2      122             70             27        0  36.8   \n",
       "765            5      121             72             23      112  26.2   \n",
       "766            1      126             60              0        0  30.1   \n",
       "767            1       93             70             31        0  30.4   \n",
       "\n",
       "     DiabetesPedigreeFunction  Age  \n",
       "0                       0.627   50  \n",
       "1                       0.351   31  \n",
       "2                       0.672   32  \n",
       "3                       0.167   21  \n",
       "4                       2.288   33  \n",
       "..                        ...  ...  \n",
       "763                     0.171   63  \n",
       "764                     0.340   27  \n",
       "765                     0.245   30  \n",
       "766                     0.349   47  \n",
       "767                     0.315   23  \n",
       "\n",
       "[768 rows x 8 columns]"
      ]
     },
     "execution_count": 6,
     "metadata": {},
     "output_type": "execute_result"
    }
   ],
   "source": [
    "X"
   ]
  },
  {
   "cell_type": "code",
   "execution_count": 7,
   "id": "1e7fa273-3e63-4945-bbb4-5e9dba53dd16",
   "metadata": {
    "tags": []
   },
   "outputs": [
    {
     "data": {
      "text/plain": [
       "0      1\n",
       "1      0\n",
       "2      1\n",
       "3      0\n",
       "4      1\n",
       "      ..\n",
       "763    0\n",
       "764    0\n",
       "765    0\n",
       "766    1\n",
       "767    0\n",
       "Name: Outcome, Length: 768, dtype: int64"
      ]
     },
     "execution_count": 7,
     "metadata": {},
     "output_type": "execute_result"
    }
   ],
   "source": [
    "y"
   ]
  },
  {
   "cell_type": "code",
   "execution_count": 8,
   "id": "e6b9e4bc-8bee-414b-bd7d-822adda022cf",
   "metadata": {
    "tags": []
   },
   "outputs": [],
   "source": [
    "from sklearn.preprocessing import StandardScaler"
   ]
  },
  {
   "cell_type": "code",
   "execution_count": 9,
   "id": "6184611f-56b2-4dac-a7a6-cb7e86d0e426",
   "metadata": {
    "tags": []
   },
   "outputs": [],
   "source": [
    "scaler = StandardScaler()"
   ]
  },
  {
   "cell_type": "code",
   "execution_count": 10,
   "id": "6f205b65-5175-4d31-b4af-6d22f1a223ce",
   "metadata": {
    "tags": []
   },
   "outputs": [],
   "source": [
    "X_scaled = scaler.fit_transform(X)"
   ]
  },
  {
   "cell_type": "code",
   "execution_count": 11,
   "id": "62161ce4-8b2b-4ab8-803f-dc35ccff447d",
   "metadata": {
    "tags": []
   },
   "outputs": [
    {
     "data": {
      "text/plain": [
       "array([[ 0.63994726,  0.84832379,  0.14964075, ...,  0.20401277,\n",
       "         0.46849198,  1.4259954 ],\n",
       "       [-0.84488505, -1.12339636, -0.16054575, ..., -0.68442195,\n",
       "        -0.36506078, -0.19067191],\n",
       "       [ 1.23388019,  1.94372388, -0.26394125, ..., -1.10325546,\n",
       "         0.60439732, -0.10558415],\n",
       "       ...,\n",
       "       [ 0.3429808 ,  0.00330087,  0.14964075, ..., -0.73518964,\n",
       "        -0.68519336, -0.27575966],\n",
       "       [-0.84488505,  0.1597866 , -0.47073225, ..., -0.24020459,\n",
       "        -0.37110101,  1.17073215],\n",
       "       [-0.84488505, -0.8730192 ,  0.04624525, ..., -0.20212881,\n",
       "        -0.47378505, -0.87137393]])"
      ]
     },
     "execution_count": 11,
     "metadata": {},
     "output_type": "execute_result"
    }
   ],
   "source": [
    "X_scaled"
   ]
  },
  {
   "cell_type": "code",
   "execution_count": 12,
   "id": "fe3b8169-d2a1-4804-90a8-8239c9d7dc95",
   "metadata": {
    "tags": []
   },
   "outputs": [
    {
     "data": {
      "text/plain": [
       "(768, 8)"
      ]
     },
     "execution_count": 12,
     "metadata": {},
     "output_type": "execute_result"
    }
   ],
   "source": [
    "X_scaled.shape"
   ]
  },
  {
   "cell_type": "code",
   "execution_count": 13,
   "id": "f709b83e-8698-4e51-86d8-f23c29222f67",
   "metadata": {
    "tags": []
   },
   "outputs": [],
   "source": [
    "from sklearn.model_selection import train_test_split\n",
    "X_train,X_test,y_train,y_test = train_test_split(X_scaled ,y , test_size=0.2,random_state=42)"
   ]
  },
  {
   "cell_type": "code",
   "execution_count": 81,
   "id": "e1aa3593-501b-4fa4-a93b-8a7bba1d88ad",
   "metadata": {
    "tags": []
   },
   "outputs": [],
   "source": [
    "import tensorflow\n",
    "from tensorflow import keras\n",
    "from keras import Sequential\n",
    "from keras.layers import Dense,Dropout"
   ]
  },
  {
   "cell_type": "code",
   "execution_count": 15,
   "id": "18bc8e35-b3e7-4ae5-888e-d791a287c467",
   "metadata": {
    "tags": []
   },
   "outputs": [
    {
     "name": "stdout",
     "output_type": "stream",
     "text": [
      "WARNING:tensorflow:From C:\\Users\\jain6\\anaconda3\\Lib\\site-packages\\keras\\src\\backend.py:873: The name tf.get_default_graph is deprecated. Please use tf.compat.v1.get_default_graph instead.\n",
      "\n"
     ]
    }
   ],
   "source": [
    "model = Sequential()\n",
    "model.add(Dense(32,activation = 'relu',input_dim = 8))\n",
    "model.add(Dense(1,activation = 'sigmoid'))"
   ]
  },
  {
   "cell_type": "code",
   "execution_count": 16,
   "id": "e32bc247-09b3-4ff7-a3df-15e1ba30bcc8",
   "metadata": {
    "tags": []
   },
   "outputs": [
    {
     "name": "stdout",
     "output_type": "stream",
     "text": [
      "WARNING:tensorflow:From C:\\Users\\jain6\\anaconda3\\Lib\\site-packages\\keras\\src\\optimizers\\__init__.py:309: The name tf.train.Optimizer is deprecated. Please use tf.compat.v1.train.Optimizer instead.\n",
      "\n",
      "Epoch 1/100\n",
      "WARNING:tensorflow:From C:\\Users\\jain6\\anaconda3\\Lib\\site-packages\\keras\\src\\utils\\tf_utils.py:492: The name tf.ragged.RaggedTensorValue is deprecated. Please use tf.compat.v1.ragged.RaggedTensorValue instead.\n",
      "\n",
      "WARNING:tensorflow:From C:\\Users\\jain6\\anaconda3\\Lib\\site-packages\\keras\\src\\engine\\base_layer_utils.py:384: The name tf.executing_eagerly_outside_functions is deprecated. Please use tf.compat.v1.executing_eagerly_outside_functions instead.\n",
      "\n",
      "20/20 [==============================] - 2s 23ms/step - loss: 0.6844 - accuracy: 0.5961 - val_loss: 0.6462 - val_accuracy: 0.6364\n",
      "Epoch 2/100\n",
      "20/20 [==============================] - 0s 6ms/step - loss: 0.6339 - accuracy: 0.6482 - val_loss: 0.6074 - val_accuracy: 0.6364\n",
      "Epoch 3/100\n",
      "20/20 [==============================] - 0s 6ms/step - loss: 0.5965 - accuracy: 0.6694 - val_loss: 0.5793 - val_accuracy: 0.6623\n",
      "Epoch 4/100\n",
      "20/20 [==============================] - 0s 7ms/step - loss: 0.5677 - accuracy: 0.7068 - val_loss: 0.5593 - val_accuracy: 0.6818\n",
      "Epoch 5/100\n",
      "20/20 [==============================] - 0s 6ms/step - loss: 0.5461 - accuracy: 0.7150 - val_loss: 0.5436 - val_accuracy: 0.7208\n",
      "Epoch 6/100\n",
      "20/20 [==============================] - 0s 6ms/step - loss: 0.5281 - accuracy: 0.7296 - val_loss: 0.5323 - val_accuracy: 0.7273\n",
      "Epoch 7/100\n",
      "20/20 [==============================] - 0s 6ms/step - loss: 0.5153 - accuracy: 0.7410 - val_loss: 0.5225 - val_accuracy: 0.7338\n",
      "Epoch 8/100\n",
      "20/20 [==============================] - 0s 6ms/step - loss: 0.5043 - accuracy: 0.7476 - val_loss: 0.5146 - val_accuracy: 0.7273\n",
      "Epoch 9/100\n",
      "20/20 [==============================] - 0s 6ms/step - loss: 0.4944 - accuracy: 0.7573 - val_loss: 0.5099 - val_accuracy: 0.7403\n",
      "Epoch 10/100\n",
      "20/20 [==============================] - 0s 6ms/step - loss: 0.4870 - accuracy: 0.7541 - val_loss: 0.5048 - val_accuracy: 0.7532\n",
      "Epoch 11/100\n",
      "20/20 [==============================] - 0s 7ms/step - loss: 0.4805 - accuracy: 0.7622 - val_loss: 0.5012 - val_accuracy: 0.7597\n",
      "Epoch 12/100\n",
      "20/20 [==============================] - 0s 6ms/step - loss: 0.4749 - accuracy: 0.7736 - val_loss: 0.4963 - val_accuracy: 0.7727\n",
      "Epoch 13/100\n",
      "20/20 [==============================] - 0s 6ms/step - loss: 0.4700 - accuracy: 0.7769 - val_loss: 0.4966 - val_accuracy: 0.7727\n",
      "Epoch 14/100\n",
      "20/20 [==============================] - 0s 9ms/step - loss: 0.4659 - accuracy: 0.7752 - val_loss: 0.4968 - val_accuracy: 0.7792\n",
      "Epoch 15/100\n",
      "20/20 [==============================] - 0s 7ms/step - loss: 0.4625 - accuracy: 0.7834 - val_loss: 0.4966 - val_accuracy: 0.7727\n",
      "Epoch 16/100\n",
      "20/20 [==============================] - 0s 7ms/step - loss: 0.4592 - accuracy: 0.7850 - val_loss: 0.4962 - val_accuracy: 0.7662\n",
      "Epoch 17/100\n",
      "20/20 [==============================] - 0s 9ms/step - loss: 0.4559 - accuracy: 0.7883 - val_loss: 0.4946 - val_accuracy: 0.7662\n",
      "Epoch 18/100\n",
      "20/20 [==============================] - 0s 6ms/step - loss: 0.4534 - accuracy: 0.7866 - val_loss: 0.4955 - val_accuracy: 0.7662\n",
      "Epoch 19/100\n",
      "20/20 [==============================] - 0s 7ms/step - loss: 0.4519 - accuracy: 0.7883 - val_loss: 0.4962 - val_accuracy: 0.7597\n",
      "Epoch 20/100\n",
      "20/20 [==============================] - 0s 8ms/step - loss: 0.4500 - accuracy: 0.7850 - val_loss: 0.4955 - val_accuracy: 0.7662\n",
      "Epoch 21/100\n",
      "20/20 [==============================] - 0s 6ms/step - loss: 0.4476 - accuracy: 0.7818 - val_loss: 0.4965 - val_accuracy: 0.7662\n",
      "Epoch 22/100\n",
      "20/20 [==============================] - 0s 7ms/step - loss: 0.4462 - accuracy: 0.7850 - val_loss: 0.4967 - val_accuracy: 0.7662\n",
      "Epoch 23/100\n",
      "20/20 [==============================] - 0s 6ms/step - loss: 0.4455 - accuracy: 0.7834 - val_loss: 0.4967 - val_accuracy: 0.7597\n",
      "Epoch 24/100\n",
      "20/20 [==============================] - 0s 6ms/step - loss: 0.4431 - accuracy: 0.7850 - val_loss: 0.4945 - val_accuracy: 0.7662\n",
      "Epoch 25/100\n",
      "20/20 [==============================] - 0s 6ms/step - loss: 0.4420 - accuracy: 0.7899 - val_loss: 0.4956 - val_accuracy: 0.7662\n",
      "Epoch 26/100\n",
      "20/20 [==============================] - 0s 7ms/step - loss: 0.4409 - accuracy: 0.7834 - val_loss: 0.4948 - val_accuracy: 0.7662\n",
      "Epoch 27/100\n",
      "20/20 [==============================] - 0s 8ms/step - loss: 0.4399 - accuracy: 0.7866 - val_loss: 0.4949 - val_accuracy: 0.7662\n",
      "Epoch 28/100\n",
      "20/20 [==============================] - 0s 7ms/step - loss: 0.4389 - accuracy: 0.7866 - val_loss: 0.4952 - val_accuracy: 0.7597\n",
      "Epoch 29/100\n",
      "20/20 [==============================] - 0s 7ms/step - loss: 0.4379 - accuracy: 0.7818 - val_loss: 0.4961 - val_accuracy: 0.7662\n",
      "Epoch 30/100\n",
      "20/20 [==============================] - 0s 6ms/step - loss: 0.4371 - accuracy: 0.7850 - val_loss: 0.4963 - val_accuracy: 0.7532\n",
      "Epoch 31/100\n",
      "20/20 [==============================] - 0s 6ms/step - loss: 0.4362 - accuracy: 0.7850 - val_loss: 0.4981 - val_accuracy: 0.7597\n",
      "Epoch 32/100\n",
      "20/20 [==============================] - 0s 6ms/step - loss: 0.4349 - accuracy: 0.7818 - val_loss: 0.5006 - val_accuracy: 0.7532\n",
      "Epoch 33/100\n",
      "20/20 [==============================] - 0s 6ms/step - loss: 0.4347 - accuracy: 0.7850 - val_loss: 0.5014 - val_accuracy: 0.7468\n",
      "Epoch 34/100\n",
      "20/20 [==============================] - 0s 6ms/step - loss: 0.4332 - accuracy: 0.7866 - val_loss: 0.5025 - val_accuracy: 0.7532\n",
      "Epoch 35/100\n",
      "20/20 [==============================] - 0s 6ms/step - loss: 0.4329 - accuracy: 0.7883 - val_loss: 0.5025 - val_accuracy: 0.7468\n",
      "Epoch 36/100\n",
      "20/20 [==============================] - 0s 5ms/step - loss: 0.4317 - accuracy: 0.7883 - val_loss: 0.5047 - val_accuracy: 0.7468\n",
      "Epoch 37/100\n",
      "20/20 [==============================] - 0s 6ms/step - loss: 0.4316 - accuracy: 0.7883 - val_loss: 0.5038 - val_accuracy: 0.7403\n",
      "Epoch 38/100\n",
      "20/20 [==============================] - 0s 9ms/step - loss: 0.4308 - accuracy: 0.7883 - val_loss: 0.5042 - val_accuracy: 0.7468\n",
      "Epoch 39/100\n",
      "20/20 [==============================] - 0s 9ms/step - loss: 0.4297 - accuracy: 0.7948 - val_loss: 0.5049 - val_accuracy: 0.7468\n",
      "Epoch 40/100\n",
      "20/20 [==============================] - 0s 9ms/step - loss: 0.4291 - accuracy: 0.7915 - val_loss: 0.5057 - val_accuracy: 0.7468\n",
      "Epoch 41/100\n",
      "20/20 [==============================] - 0s 6ms/step - loss: 0.4285 - accuracy: 0.7932 - val_loss: 0.5056 - val_accuracy: 0.7468\n",
      "Epoch 42/100\n",
      "20/20 [==============================] - 0s 6ms/step - loss: 0.4278 - accuracy: 0.7980 - val_loss: 0.5045 - val_accuracy: 0.7468\n",
      "Epoch 43/100\n",
      "20/20 [==============================] - 0s 8ms/step - loss: 0.4275 - accuracy: 0.7980 - val_loss: 0.5052 - val_accuracy: 0.7532\n",
      "Epoch 44/100\n",
      "20/20 [==============================] - 0s 9ms/step - loss: 0.4267 - accuracy: 0.7980 - val_loss: 0.5055 - val_accuracy: 0.7468\n",
      "Epoch 45/100\n",
      "20/20 [==============================] - 0s 6ms/step - loss: 0.4264 - accuracy: 0.7948 - val_loss: 0.5073 - val_accuracy: 0.7468\n",
      "Epoch 46/100\n",
      "20/20 [==============================] - 0s 6ms/step - loss: 0.4255 - accuracy: 0.7964 - val_loss: 0.5066 - val_accuracy: 0.7468\n",
      "Epoch 47/100\n",
      "20/20 [==============================] - 0s 6ms/step - loss: 0.4249 - accuracy: 0.7932 - val_loss: 0.5061 - val_accuracy: 0.7597\n",
      "Epoch 48/100\n",
      "20/20 [==============================] - 0s 6ms/step - loss: 0.4242 - accuracy: 0.7932 - val_loss: 0.5084 - val_accuracy: 0.7597\n",
      "Epoch 49/100\n",
      "20/20 [==============================] - 0s 8ms/step - loss: 0.4237 - accuracy: 0.7948 - val_loss: 0.5087 - val_accuracy: 0.7532\n",
      "Epoch 50/100\n",
      "20/20 [==============================] - 0s 7ms/step - loss: 0.4235 - accuracy: 0.7932 - val_loss: 0.5088 - val_accuracy: 0.7532\n",
      "Epoch 51/100\n",
      "20/20 [==============================] - 0s 6ms/step - loss: 0.4228 - accuracy: 0.7932 - val_loss: 0.5107 - val_accuracy: 0.7468\n",
      "Epoch 52/100\n",
      "20/20 [==============================] - 0s 7ms/step - loss: 0.4223 - accuracy: 0.7964 - val_loss: 0.5108 - val_accuracy: 0.7468\n",
      "Epoch 53/100\n",
      "20/20 [==============================] - 0s 7ms/step - loss: 0.4220 - accuracy: 0.7948 - val_loss: 0.5118 - val_accuracy: 0.7468\n",
      "Epoch 54/100\n",
      "20/20 [==============================] - 0s 7ms/step - loss: 0.4215 - accuracy: 0.7932 - val_loss: 0.5122 - val_accuracy: 0.7468\n",
      "Epoch 55/100\n",
      "20/20 [==============================] - 0s 9ms/step - loss: 0.4207 - accuracy: 0.7932 - val_loss: 0.5125 - val_accuracy: 0.7468\n",
      "Epoch 56/100\n",
      "20/20 [==============================] - 0s 6ms/step - loss: 0.4204 - accuracy: 0.7932 - val_loss: 0.5104 - val_accuracy: 0.7403\n",
      "Epoch 57/100\n",
      "20/20 [==============================] - 0s 5ms/step - loss: 0.4202 - accuracy: 0.7932 - val_loss: 0.5109 - val_accuracy: 0.7468\n",
      "Epoch 58/100\n",
      "20/20 [==============================] - 0s 6ms/step - loss: 0.4201 - accuracy: 0.7915 - val_loss: 0.5126 - val_accuracy: 0.7403\n",
      "Epoch 59/100\n",
      "20/20 [==============================] - 0s 6ms/step - loss: 0.4190 - accuracy: 0.7932 - val_loss: 0.5146 - val_accuracy: 0.7403\n",
      "Epoch 60/100\n",
      "20/20 [==============================] - 0s 6ms/step - loss: 0.4186 - accuracy: 0.7948 - val_loss: 0.5143 - val_accuracy: 0.7403\n",
      "Epoch 61/100\n",
      "20/20 [==============================] - 0s 8ms/step - loss: 0.4179 - accuracy: 0.7915 - val_loss: 0.5125 - val_accuracy: 0.7468\n",
      "Epoch 62/100\n",
      "20/20 [==============================] - 0s 6ms/step - loss: 0.4177 - accuracy: 0.7964 - val_loss: 0.5133 - val_accuracy: 0.7468\n",
      "Epoch 63/100\n",
      "20/20 [==============================] - 0s 7ms/step - loss: 0.4170 - accuracy: 0.7932 - val_loss: 0.5148 - val_accuracy: 0.7468\n",
      "Epoch 64/100\n",
      "20/20 [==============================] - 0s 7ms/step - loss: 0.4166 - accuracy: 0.7948 - val_loss: 0.5159 - val_accuracy: 0.7468\n",
      "Epoch 65/100\n",
      "20/20 [==============================] - 0s 6ms/step - loss: 0.4161 - accuracy: 0.8013 - val_loss: 0.5172 - val_accuracy: 0.7532\n",
      "Epoch 66/100\n",
      "20/20 [==============================] - 0s 7ms/step - loss: 0.4162 - accuracy: 0.8046 - val_loss: 0.5147 - val_accuracy: 0.7532\n",
      "Epoch 67/100\n",
      "20/20 [==============================] - 0s 6ms/step - loss: 0.4160 - accuracy: 0.8029 - val_loss: 0.5161 - val_accuracy: 0.7532\n",
      "Epoch 68/100\n",
      "20/20 [==============================] - 0s 6ms/step - loss: 0.4154 - accuracy: 0.8062 - val_loss: 0.5159 - val_accuracy: 0.7597\n",
      "Epoch 69/100\n",
      "20/20 [==============================] - 0s 8ms/step - loss: 0.4147 - accuracy: 0.7980 - val_loss: 0.5136 - val_accuracy: 0.7532\n",
      "Epoch 70/100\n",
      "20/20 [==============================] - 0s 8ms/step - loss: 0.4146 - accuracy: 0.7964 - val_loss: 0.5139 - val_accuracy: 0.7597\n",
      "Epoch 71/100\n",
      "20/20 [==============================] - 0s 6ms/step - loss: 0.4147 - accuracy: 0.7948 - val_loss: 0.5154 - val_accuracy: 0.7468\n",
      "Epoch 72/100\n",
      "20/20 [==============================] - 0s 6ms/step - loss: 0.4135 - accuracy: 0.7948 - val_loss: 0.5149 - val_accuracy: 0.7532\n",
      "Epoch 73/100\n",
      "20/20 [==============================] - 0s 6ms/step - loss: 0.4137 - accuracy: 0.7980 - val_loss: 0.5141 - val_accuracy: 0.7597\n",
      "Epoch 74/100\n",
      "20/20 [==============================] - 0s 6ms/step - loss: 0.4133 - accuracy: 0.7948 - val_loss: 0.5152 - val_accuracy: 0.7532\n",
      "Epoch 75/100\n",
      "20/20 [==============================] - 0s 6ms/step - loss: 0.4127 - accuracy: 0.7997 - val_loss: 0.5194 - val_accuracy: 0.7403\n",
      "Epoch 76/100\n",
      "20/20 [==============================] - 0s 7ms/step - loss: 0.4125 - accuracy: 0.7948 - val_loss: 0.5178 - val_accuracy: 0.7403\n",
      "Epoch 77/100\n",
      "20/20 [==============================] - 0s 8ms/step - loss: 0.4123 - accuracy: 0.8029 - val_loss: 0.5164 - val_accuracy: 0.7468\n",
      "Epoch 78/100\n",
      "20/20 [==============================] - 0s 8ms/step - loss: 0.4112 - accuracy: 0.8046 - val_loss: 0.5153 - val_accuracy: 0.7468\n",
      "Epoch 79/100\n",
      "20/20 [==============================] - 0s 7ms/step - loss: 0.4111 - accuracy: 0.8029 - val_loss: 0.5173 - val_accuracy: 0.7468\n",
      "Epoch 80/100\n",
      "20/20 [==============================] - 0s 7ms/step - loss: 0.4112 - accuracy: 0.8062 - val_loss: 0.5186 - val_accuracy: 0.7403\n",
      "Epoch 81/100\n",
      "20/20 [==============================] - 0s 9ms/step - loss: 0.4103 - accuracy: 0.8029 - val_loss: 0.5195 - val_accuracy: 0.7403\n",
      "Epoch 82/100\n",
      "20/20 [==============================] - 0s 6ms/step - loss: 0.4102 - accuracy: 0.8029 - val_loss: 0.5205 - val_accuracy: 0.7403\n",
      "Epoch 83/100\n",
      "20/20 [==============================] - 0s 6ms/step - loss: 0.4115 - accuracy: 0.8013 - val_loss: 0.5217 - val_accuracy: 0.7468\n",
      "Epoch 84/100\n",
      "20/20 [==============================] - 0s 6ms/step - loss: 0.4095 - accuracy: 0.8046 - val_loss: 0.5228 - val_accuracy: 0.7403\n",
      "Epoch 85/100\n",
      "20/20 [==============================] - 0s 6ms/step - loss: 0.4092 - accuracy: 0.8046 - val_loss: 0.5215 - val_accuracy: 0.7403\n",
      "Epoch 86/100\n",
      "20/20 [==============================] - 0s 6ms/step - loss: 0.4085 - accuracy: 0.8111 - val_loss: 0.5232 - val_accuracy: 0.7403\n",
      "Epoch 87/100\n",
      "20/20 [==============================] - 0s 8ms/step - loss: 0.4083 - accuracy: 0.8078 - val_loss: 0.5239 - val_accuracy: 0.7403\n",
      "Epoch 88/100\n",
      "20/20 [==============================] - 0s 6ms/step - loss: 0.4087 - accuracy: 0.8029 - val_loss: 0.5210 - val_accuracy: 0.7403\n",
      "Epoch 89/100\n",
      "20/20 [==============================] - 0s 6ms/step - loss: 0.4072 - accuracy: 0.8094 - val_loss: 0.5239 - val_accuracy: 0.7403\n",
      "Epoch 90/100\n",
      "20/20 [==============================] - 0s 6ms/step - loss: 0.4072 - accuracy: 0.8094 - val_loss: 0.5226 - val_accuracy: 0.7403\n",
      "Epoch 91/100\n",
      "20/20 [==============================] - 0s 7ms/step - loss: 0.4072 - accuracy: 0.8046 - val_loss: 0.5216 - val_accuracy: 0.7468\n",
      "Epoch 92/100\n",
      "20/20 [==============================] - 0s 6ms/step - loss: 0.4062 - accuracy: 0.8029 - val_loss: 0.5231 - val_accuracy: 0.7468\n",
      "Epoch 93/100\n",
      "20/20 [==============================] - 0s 6ms/step - loss: 0.4061 - accuracy: 0.8094 - val_loss: 0.5230 - val_accuracy: 0.7468\n",
      "Epoch 94/100\n",
      "20/20 [==============================] - 0s 6ms/step - loss: 0.4061 - accuracy: 0.8078 - val_loss: 0.5193 - val_accuracy: 0.7468\n",
      "Epoch 95/100\n",
      "20/20 [==============================] - 0s 9ms/step - loss: 0.4054 - accuracy: 0.8062 - val_loss: 0.5219 - val_accuracy: 0.7532\n",
      "Epoch 96/100\n",
      "20/20 [==============================] - 0s 6ms/step - loss: 0.4053 - accuracy: 0.8046 - val_loss: 0.5244 - val_accuracy: 0.7468\n",
      "Epoch 97/100\n",
      "20/20 [==============================] - 0s 6ms/step - loss: 0.4054 - accuracy: 0.8078 - val_loss: 0.5236 - val_accuracy: 0.7532\n",
      "Epoch 98/100\n",
      "20/20 [==============================] - 0s 6ms/step - loss: 0.4037 - accuracy: 0.8046 - val_loss: 0.5252 - val_accuracy: 0.7468\n",
      "Epoch 99/100\n",
      "20/20 [==============================] - 0s 6ms/step - loss: 0.4035 - accuracy: 0.7997 - val_loss: 0.5269 - val_accuracy: 0.7468\n",
      "Epoch 100/100\n",
      "20/20 [==============================] - 0s 6ms/step - loss: 0.4033 - accuracy: 0.8046 - val_loss: 0.5283 - val_accuracy: 0.7468\n"
     ]
    },
    {
     "data": {
      "text/plain": [
       "<keras.src.callbacks.History at 0x261d01ba450>"
      ]
     },
     "execution_count": 16,
     "metadata": {},
     "output_type": "execute_result"
    }
   ],
   "source": [
    "model.compile(loss = 'binary_crossentropy',optimizer = 'Adam',metrics=['accuracy'])\n",
    "model.fit(X_train,y_train,epochs = 100,batch_size = 32,validation_data = (X_test,y_test))"
   ]
  },
  {
   "cell_type": "code",
   "execution_count": 17,
   "id": "15348e6d-903a-4930-8752-50fc205e4f4f",
   "metadata": {
    "tags": []
   },
   "outputs": [],
   "source": [
    "import keras_tuner as kt"
   ]
  },
  {
   "cell_type": "code",
   "execution_count": 18,
   "id": "a2cbf129-17be-4152-b790-9ff4c2a1a4b4",
   "metadata": {
    "tags": []
   },
   "outputs": [],
   "source": [
    "def build_model(hp):\n",
    "    model = Sequential()\n",
    "    model.add(Dense(32,activation = 'relu',input_dim = 8))\n",
    "    model.add(Dense(1,activation = 'sigmoid'))\n",
    "    \n",
    "    \n",
    "    optimizer = hp.Choice('optimizer',values = ['adam','sgd','rmsprop','adadelta'])\n",
    "    model.compile(optimizer = optimizer ,loss = 'binary_crossentropy',metrics = ['accuracy'])\n",
    "                  \n",
    "    return model"
   ]
  },
  {
   "cell_type": "code",
   "execution_count": 21,
   "id": "77f6afe9-6822-4698-8bac-dcff22cfde77",
   "metadata": {
    "tags": []
   },
   "outputs": [
    {
     "name": "stdout",
     "output_type": "stream",
     "text": [
      "Reloading Tuner from .\\untitled_project\\tuner0.json\n"
     ]
    }
   ],
   "source": [
    "tuner = kt.RandomSearch(build_model,\n",
    "                        objective='val_accuracy',\n",
    "                        max_trials=5)\n"
   ]
  },
  {
   "cell_type": "code",
   "execution_count": 22,
   "id": "9dbf7775-407d-4cd4-963e-a0ffb4b11870",
   "metadata": {
    "tags": []
   },
   "outputs": [],
   "source": [
    "tuner.search(X_train,y_train,epochs =5,validation_data = (X_test,y_test))\n"
   ]
  },
  {
   "cell_type": "code",
   "execution_count": 23,
   "id": "a283f88e-e90f-4082-8cc3-d6c7853cb71f",
   "metadata": {
    "tags": []
   },
   "outputs": [
    {
     "data": {
      "text/plain": [
       "{'optimizer': 'sgd'}"
      ]
     },
     "execution_count": 23,
     "metadata": {},
     "output_type": "execute_result"
    }
   ],
   "source": [
    "tuner.get_best_hyperparameters()[0].values"
   ]
  },
  {
   "cell_type": "code",
   "execution_count": 25,
   "id": "f53a258c-011a-4f48-abda-b3aa549c6da0",
   "metadata": {
    "tags": []
   },
   "outputs": [],
   "source": [
    "model1 = tuner.get_best_models(num_models=1)[0]"
   ]
  },
  {
   "cell_type": "code",
   "execution_count": 28,
   "id": "5bb54407-5a5d-498f-a626-39b7af1ea92f",
   "metadata": {
    "tags": []
   },
   "outputs": [
    {
     "name": "stdout",
     "output_type": "stream",
     "text": [
      "Epoch 7/100\n",
      "20/20 [==============================] - 0s 20ms/step - loss: 0.4402 - accuracy: 0.7948 - val_loss: 0.5003 - val_accuracy: 0.7857\n",
      "Epoch 8/100\n",
      "20/20 [==============================] - 0s 6ms/step - loss: 0.4401 - accuracy: 0.7948 - val_loss: 0.5004 - val_accuracy: 0.7857\n",
      "Epoch 9/100\n",
      "20/20 [==============================] - 0s 6ms/step - loss: 0.4397 - accuracy: 0.7948 - val_loss: 0.5002 - val_accuracy: 0.7857\n",
      "Epoch 10/100\n",
      "20/20 [==============================] - 0s 6ms/step - loss: 0.4396 - accuracy: 0.7932 - val_loss: 0.5005 - val_accuracy: 0.7857\n",
      "Epoch 11/100\n",
      "20/20 [==============================] - 0s 8ms/step - loss: 0.4394 - accuracy: 0.7932 - val_loss: 0.5009 - val_accuracy: 0.7857\n",
      "Epoch 12/100\n",
      "20/20 [==============================] - 0s 8ms/step - loss: 0.4390 - accuracy: 0.7948 - val_loss: 0.5011 - val_accuracy: 0.7857\n",
      "Epoch 13/100\n",
      "20/20 [==============================] - 0s 6ms/step - loss: 0.4389 - accuracy: 0.7932 - val_loss: 0.5013 - val_accuracy: 0.7857\n",
      "Epoch 14/100\n",
      "20/20 [==============================] - 0s 6ms/step - loss: 0.4386 - accuracy: 0.7948 - val_loss: 0.5015 - val_accuracy: 0.7857\n",
      "Epoch 15/100\n",
      "20/20 [==============================] - 0s 7ms/step - loss: 0.4384 - accuracy: 0.7915 - val_loss: 0.5014 - val_accuracy: 0.7857\n",
      "Epoch 16/100\n",
      "20/20 [==============================] - 0s 8ms/step - loss: 0.4381 - accuracy: 0.7899 - val_loss: 0.5016 - val_accuracy: 0.7857\n",
      "Epoch 17/100\n",
      "20/20 [==============================] - 0s 6ms/step - loss: 0.4379 - accuracy: 0.7899 - val_loss: 0.5014 - val_accuracy: 0.7857\n",
      "Epoch 18/100\n",
      "20/20 [==============================] - 0s 8ms/step - loss: 0.4377 - accuracy: 0.7915 - val_loss: 0.5029 - val_accuracy: 0.7792\n",
      "Epoch 19/100\n",
      "20/20 [==============================] - 0s 8ms/step - loss: 0.4376 - accuracy: 0.7915 - val_loss: 0.5027 - val_accuracy: 0.7792\n",
      "Epoch 20/100\n",
      "20/20 [==============================] - 0s 6ms/step - loss: 0.4373 - accuracy: 0.7932 - val_loss: 0.5030 - val_accuracy: 0.7792\n",
      "Epoch 21/100\n",
      "20/20 [==============================] - 0s 7ms/step - loss: 0.4371 - accuracy: 0.7899 - val_loss: 0.5030 - val_accuracy: 0.7792\n",
      "Epoch 22/100\n",
      "20/20 [==============================] - 0s 7ms/step - loss: 0.4369 - accuracy: 0.7899 - val_loss: 0.5033 - val_accuracy: 0.7792\n",
      "Epoch 23/100\n",
      "20/20 [==============================] - 0s 6ms/step - loss: 0.4367 - accuracy: 0.7915 - val_loss: 0.5026 - val_accuracy: 0.7792\n",
      "Epoch 24/100\n",
      "20/20 [==============================] - 0s 7ms/step - loss: 0.4364 - accuracy: 0.7915 - val_loss: 0.5027 - val_accuracy: 0.7857\n",
      "Epoch 25/100\n",
      "20/20 [==============================] - 0s 5ms/step - loss: 0.4363 - accuracy: 0.7915 - val_loss: 0.5027 - val_accuracy: 0.7857\n",
      "Epoch 26/100\n",
      "20/20 [==============================] - 0s 6ms/step - loss: 0.4360 - accuracy: 0.7915 - val_loss: 0.5031 - val_accuracy: 0.7792\n",
      "Epoch 27/100\n",
      "20/20 [==============================] - 0s 5ms/step - loss: 0.4359 - accuracy: 0.7915 - val_loss: 0.5032 - val_accuracy: 0.7792\n",
      "Epoch 28/100\n",
      "20/20 [==============================] - 0s 6ms/step - loss: 0.4356 - accuracy: 0.7915 - val_loss: 0.5032 - val_accuracy: 0.7792\n",
      "Epoch 29/100\n",
      "20/20 [==============================] - 0s 6ms/step - loss: 0.4355 - accuracy: 0.7915 - val_loss: 0.5032 - val_accuracy: 0.7857\n",
      "Epoch 30/100\n",
      "20/20 [==============================] - 0s 6ms/step - loss: 0.4354 - accuracy: 0.7932 - val_loss: 0.5035 - val_accuracy: 0.7792\n",
      "Epoch 31/100\n",
      "20/20 [==============================] - 0s 6ms/step - loss: 0.4352 - accuracy: 0.7932 - val_loss: 0.5037 - val_accuracy: 0.7792\n",
      "Epoch 32/100\n",
      "20/20 [==============================] - 0s 6ms/step - loss: 0.4350 - accuracy: 0.7915 - val_loss: 0.5029 - val_accuracy: 0.7792\n",
      "Epoch 33/100\n",
      "20/20 [==============================] - 0s 7ms/step - loss: 0.4347 - accuracy: 0.7932 - val_loss: 0.5029 - val_accuracy: 0.7792\n",
      "Epoch 34/100\n",
      "20/20 [==============================] - 0s 5ms/step - loss: 0.4346 - accuracy: 0.7899 - val_loss: 0.5035 - val_accuracy: 0.7792\n",
      "Epoch 35/100\n",
      "20/20 [==============================] - 0s 5ms/step - loss: 0.4343 - accuracy: 0.7899 - val_loss: 0.5036 - val_accuracy: 0.7792\n",
      "Epoch 36/100\n",
      "20/20 [==============================] - 0s 8ms/step - loss: 0.4342 - accuracy: 0.7915 - val_loss: 0.5032 - val_accuracy: 0.7792\n",
      "Epoch 37/100\n",
      "20/20 [==============================] - 0s 6ms/step - loss: 0.4340 - accuracy: 0.7899 - val_loss: 0.5035 - val_accuracy: 0.7792\n",
      "Epoch 38/100\n",
      "20/20 [==============================] - 0s 5ms/step - loss: 0.4339 - accuracy: 0.7899 - val_loss: 0.5032 - val_accuracy: 0.7792\n",
      "Epoch 39/100\n",
      "20/20 [==============================] - 0s 8ms/step - loss: 0.4338 - accuracy: 0.7883 - val_loss: 0.5035 - val_accuracy: 0.7792\n",
      "Epoch 40/100\n",
      "20/20 [==============================] - 0s 7ms/step - loss: 0.4335 - accuracy: 0.7899 - val_loss: 0.5037 - val_accuracy: 0.7792\n",
      "Epoch 41/100\n",
      "20/20 [==============================] - 0s 7ms/step - loss: 0.4334 - accuracy: 0.7883 - val_loss: 0.5037 - val_accuracy: 0.7792\n",
      "Epoch 42/100\n",
      "20/20 [==============================] - 0s 5ms/step - loss: 0.4332 - accuracy: 0.7932 - val_loss: 0.5041 - val_accuracy: 0.7792\n",
      "Epoch 43/100\n",
      "20/20 [==============================] - 0s 7ms/step - loss: 0.4331 - accuracy: 0.7948 - val_loss: 0.5043 - val_accuracy: 0.7792\n",
      "Epoch 44/100\n",
      "20/20 [==============================] - 0s 8ms/step - loss: 0.4328 - accuracy: 0.7948 - val_loss: 0.5043 - val_accuracy: 0.7792\n",
      "Epoch 45/100\n",
      "20/20 [==============================] - 0s 8ms/step - loss: 0.4327 - accuracy: 0.7980 - val_loss: 0.5045 - val_accuracy: 0.7792\n",
      "Epoch 46/100\n",
      "20/20 [==============================] - 0s 8ms/step - loss: 0.4324 - accuracy: 0.7932 - val_loss: 0.5047 - val_accuracy: 0.7727\n",
      "Epoch 47/100\n",
      "20/20 [==============================] - 0s 6ms/step - loss: 0.4323 - accuracy: 0.7899 - val_loss: 0.5048 - val_accuracy: 0.7792\n",
      "Epoch 48/100\n",
      "20/20 [==============================] - 0s 5ms/step - loss: 0.4322 - accuracy: 0.7948 - val_loss: 0.5050 - val_accuracy: 0.7792\n",
      "Epoch 49/100\n",
      "20/20 [==============================] - 0s 5ms/step - loss: 0.4320 - accuracy: 0.7948 - val_loss: 0.5060 - val_accuracy: 0.7727\n",
      "Epoch 50/100\n",
      "20/20 [==============================] - 0s 5ms/step - loss: 0.4319 - accuracy: 0.7915 - val_loss: 0.5060 - val_accuracy: 0.7727\n",
      "Epoch 51/100\n",
      "20/20 [==============================] - 0s 6ms/step - loss: 0.4317 - accuracy: 0.7915 - val_loss: 0.5059 - val_accuracy: 0.7727\n",
      "Epoch 52/100\n",
      "20/20 [==============================] - 0s 8ms/step - loss: 0.4315 - accuracy: 0.7932 - val_loss: 0.5059 - val_accuracy: 0.7727\n",
      "Epoch 53/100\n",
      "20/20 [==============================] - 0s 7ms/step - loss: 0.4314 - accuracy: 0.7932 - val_loss: 0.5060 - val_accuracy: 0.7727\n",
      "Epoch 54/100\n",
      "20/20 [==============================] - 0s 7ms/step - loss: 0.4311 - accuracy: 0.7932 - val_loss: 0.5059 - val_accuracy: 0.7662\n",
      "Epoch 55/100\n",
      "20/20 [==============================] - 0s 5ms/step - loss: 0.4310 - accuracy: 0.7932 - val_loss: 0.5063 - val_accuracy: 0.7727\n",
      "Epoch 56/100\n",
      "20/20 [==============================] - 0s 6ms/step - loss: 0.4308 - accuracy: 0.7915 - val_loss: 0.5060 - val_accuracy: 0.7727\n",
      "Epoch 57/100\n",
      "20/20 [==============================] - 0s 6ms/step - loss: 0.4306 - accuracy: 0.7932 - val_loss: 0.5061 - val_accuracy: 0.7727\n",
      "Epoch 58/100\n",
      "20/20 [==============================] - 0s 5ms/step - loss: 0.4306 - accuracy: 0.7915 - val_loss: 0.5063 - val_accuracy: 0.7727\n",
      "Epoch 59/100\n",
      "20/20 [==============================] - 0s 7ms/step - loss: 0.4303 - accuracy: 0.7915 - val_loss: 0.5065 - val_accuracy: 0.7662\n",
      "Epoch 60/100\n",
      "20/20 [==============================] - 0s 6ms/step - loss: 0.4303 - accuracy: 0.7948 - val_loss: 0.5067 - val_accuracy: 0.7727\n",
      "Epoch 61/100\n",
      "20/20 [==============================] - 0s 6ms/step - loss: 0.4301 - accuracy: 0.7948 - val_loss: 0.5066 - val_accuracy: 0.7727\n",
      "Epoch 62/100\n",
      "20/20 [==============================] - 0s 7ms/step - loss: 0.4299 - accuracy: 0.7948 - val_loss: 0.5061 - val_accuracy: 0.7727\n",
      "Epoch 63/100\n",
      "20/20 [==============================] - 0s 8ms/step - loss: 0.4297 - accuracy: 0.7948 - val_loss: 0.5061 - val_accuracy: 0.7727\n",
      "Epoch 64/100\n",
      "20/20 [==============================] - 0s 5ms/step - loss: 0.4297 - accuracy: 0.7948 - val_loss: 0.5058 - val_accuracy: 0.7727\n",
      "Epoch 65/100\n",
      "20/20 [==============================] - 0s 6ms/step - loss: 0.4294 - accuracy: 0.7915 - val_loss: 0.5058 - val_accuracy: 0.7727\n",
      "Epoch 66/100\n",
      "20/20 [==============================] - 0s 5ms/step - loss: 0.4294 - accuracy: 0.7932 - val_loss: 0.5058 - val_accuracy: 0.7727\n",
      "Epoch 67/100\n",
      "20/20 [==============================] - 0s 6ms/step - loss: 0.4292 - accuracy: 0.7915 - val_loss: 0.5056 - val_accuracy: 0.7727\n",
      "Epoch 68/100\n",
      "20/20 [==============================] - 0s 8ms/step - loss: 0.4291 - accuracy: 0.7948 - val_loss: 0.5057 - val_accuracy: 0.7727\n",
      "Epoch 69/100\n",
      "20/20 [==============================] - 0s 6ms/step - loss: 0.4288 - accuracy: 0.7932 - val_loss: 0.5058 - val_accuracy: 0.7727\n",
      "Epoch 70/100\n",
      "20/20 [==============================] - 0s 6ms/step - loss: 0.4287 - accuracy: 0.7948 - val_loss: 0.5056 - val_accuracy: 0.7727\n",
      "Epoch 71/100\n",
      "20/20 [==============================] - 0s 7ms/step - loss: 0.4286 - accuracy: 0.7932 - val_loss: 0.5068 - val_accuracy: 0.7727\n",
      "Epoch 72/100\n",
      "20/20 [==============================] - 0s 7ms/step - loss: 0.4285 - accuracy: 0.7915 - val_loss: 0.5069 - val_accuracy: 0.7662\n",
      "Epoch 73/100\n",
      "20/20 [==============================] - 0s 5ms/step - loss: 0.4283 - accuracy: 0.7932 - val_loss: 0.5069 - val_accuracy: 0.7662\n",
      "Epoch 74/100\n",
      "20/20 [==============================] - 0s 6ms/step - loss: 0.4282 - accuracy: 0.7932 - val_loss: 0.5072 - val_accuracy: 0.7662\n",
      "Epoch 75/100\n",
      "20/20 [==============================] - 0s 8ms/step - loss: 0.4280 - accuracy: 0.7948 - val_loss: 0.5072 - val_accuracy: 0.7662\n",
      "Epoch 76/100\n",
      "20/20 [==============================] - 0s 7ms/step - loss: 0.4278 - accuracy: 0.7948 - val_loss: 0.5071 - val_accuracy: 0.7662\n",
      "Epoch 77/100\n",
      "20/20 [==============================] - 0s 6ms/step - loss: 0.4277 - accuracy: 0.7948 - val_loss: 0.5069 - val_accuracy: 0.7662\n",
      "Epoch 78/100\n",
      "20/20 [==============================] - 0s 6ms/step - loss: 0.4277 - accuracy: 0.7932 - val_loss: 0.5069 - val_accuracy: 0.7662\n",
      "Epoch 79/100\n",
      "20/20 [==============================] - 0s 6ms/step - loss: 0.4275 - accuracy: 0.7915 - val_loss: 0.5068 - val_accuracy: 0.7662\n",
      "Epoch 80/100\n",
      "20/20 [==============================] - 0s 6ms/step - loss: 0.4273 - accuracy: 0.7899 - val_loss: 0.5066 - val_accuracy: 0.7662\n",
      "Epoch 81/100\n",
      "20/20 [==============================] - 0s 8ms/step - loss: 0.4272 - accuracy: 0.7932 - val_loss: 0.5066 - val_accuracy: 0.7662\n",
      "Epoch 82/100\n",
      "20/20 [==============================] - 0s 5ms/step - loss: 0.4270 - accuracy: 0.7899 - val_loss: 0.5066 - val_accuracy: 0.7727\n",
      "Epoch 83/100\n",
      "20/20 [==============================] - 0s 6ms/step - loss: 0.4269 - accuracy: 0.7915 - val_loss: 0.5066 - val_accuracy: 0.7662\n",
      "Epoch 84/100\n",
      "20/20 [==============================] - 0s 6ms/step - loss: 0.4269 - accuracy: 0.7915 - val_loss: 0.5066 - val_accuracy: 0.7662\n",
      "Epoch 85/100\n",
      "20/20 [==============================] - 0s 7ms/step - loss: 0.4266 - accuracy: 0.7915 - val_loss: 0.5068 - val_accuracy: 0.7662\n",
      "Epoch 86/100\n",
      "20/20 [==============================] - 0s 7ms/step - loss: 0.4265 - accuracy: 0.7915 - val_loss: 0.5066 - val_accuracy: 0.7727\n",
      "Epoch 87/100\n",
      "20/20 [==============================] - 0s 6ms/step - loss: 0.4263 - accuracy: 0.7899 - val_loss: 0.5067 - val_accuracy: 0.7727\n",
      "Epoch 88/100\n",
      "20/20 [==============================] - 0s 6ms/step - loss: 0.4261 - accuracy: 0.7932 - val_loss: 0.5068 - val_accuracy: 0.7727\n",
      "Epoch 89/100\n",
      "20/20 [==============================] - 0s 8ms/step - loss: 0.4261 - accuracy: 0.7932 - val_loss: 0.5067 - val_accuracy: 0.7727\n",
      "Epoch 90/100\n",
      "20/20 [==============================] - 0s 9ms/step - loss: 0.4259 - accuracy: 0.7932 - val_loss: 0.5069 - val_accuracy: 0.7727\n",
      "Epoch 91/100\n",
      "20/20 [==============================] - 0s 8ms/step - loss: 0.4258 - accuracy: 0.7932 - val_loss: 0.5069 - val_accuracy: 0.7727\n",
      "Epoch 92/100\n",
      "20/20 [==============================] - 0s 6ms/step - loss: 0.4257 - accuracy: 0.7915 - val_loss: 0.5066 - val_accuracy: 0.7727\n",
      "Epoch 93/100\n",
      "20/20 [==============================] - 0s 6ms/step - loss: 0.4256 - accuracy: 0.7915 - val_loss: 0.5061 - val_accuracy: 0.7727\n",
      "Epoch 94/100\n",
      "20/20 [==============================] - 0s 6ms/step - loss: 0.4254 - accuracy: 0.7899 - val_loss: 0.5061 - val_accuracy: 0.7727\n",
      "Epoch 95/100\n",
      "20/20 [==============================] - 0s 6ms/step - loss: 0.4253 - accuracy: 0.7899 - val_loss: 0.5057 - val_accuracy: 0.7727\n",
      "Epoch 96/100\n",
      "20/20 [==============================] - 0s 8ms/step - loss: 0.4253 - accuracy: 0.7915 - val_loss: 0.5059 - val_accuracy: 0.7727\n",
      "Epoch 97/100\n",
      "20/20 [==============================] - 0s 7ms/step - loss: 0.4251 - accuracy: 0.7932 - val_loss: 0.5060 - val_accuracy: 0.7727\n",
      "Epoch 98/100\n",
      "20/20 [==============================] - 0s 7ms/step - loss: 0.4250 - accuracy: 0.7948 - val_loss: 0.5060 - val_accuracy: 0.7727\n",
      "Epoch 99/100\n",
      "20/20 [==============================] - 0s 5ms/step - loss: 0.4248 - accuracy: 0.7932 - val_loss: 0.5061 - val_accuracy: 0.7727\n",
      "Epoch 100/100\n",
      "20/20 [==============================] - 0s 6ms/step - loss: 0.4247 - accuracy: 0.7932 - val_loss: 0.5064 - val_accuracy: 0.7727\n"
     ]
    },
    {
     "data": {
      "text/plain": [
       "<keras.src.callbacks.History at 0x261d4ce7610>"
      ]
     },
     "execution_count": 28,
     "metadata": {},
     "output_type": "execute_result"
    }
   ],
   "source": [
    "model1.fit(X_train,y_train,batch_size = 32,epochs =100,initial_epoch=6,validation_data=(X_test,y_test))"
   ]
  },
  {
   "cell_type": "code",
   "execution_count": null,
   "id": "c2999989-0dad-4341-8554-98682274374b",
   "metadata": {},
   "outputs": [],
   "source": []
  },
  {
   "cell_type": "code",
   "execution_count": 42,
   "id": "b78ce43f-0b67-442a-a1dd-f0d33b3e6eb9",
   "metadata": {
    "tags": []
   },
   "outputs": [],
   "source": [
    "def build_model1(hp):\n",
    "    model = Sequential()\n",
    "    units = hp.Int('units',8,128,step = 8)\n",
    "    \n",
    "    model.add(Dense(units=units,activation = 'relu',input_dim = 8))\n",
    "    model.add(Dense(1,activation = 'sigmoid'))\n",
    "    \n",
    "    model.compile(optimizer ='sgd',loss ='binary_crossentropy',metrics = ['accuracy'])\n",
    "    return model"
   ]
  },
  {
   "cell_type": "code",
   "execution_count": 43,
   "id": "326f35bf-92bd-4a50-8740-3c6ac90cf324",
   "metadata": {
    "tags": []
   },
   "outputs": [],
   "source": [
    "tuner = kt.RandomSearch(build_model1,\n",
    "                        objective='val_accuracy',\n",
    "                        max_trials=5,\n",
    "                       directory = 'my_dir',\n",
    "                       project_name = 'tuner')"
   ]
  },
  {
   "cell_type": "code",
   "execution_count": 44,
   "id": "ee30c185-5388-438b-b854-29ea3cceb713",
   "metadata": {
    "tags": []
   },
   "outputs": [
    {
     "name": "stdout",
     "output_type": "stream",
     "text": [
      "Trial 5 Complete [00h 00m 03s]\n",
      "val_accuracy: 0.7272727489471436\n",
      "\n",
      "Best val_accuracy So Far: 0.7532467246055603\n",
      "Total elapsed time: 00h 00m 13s\n"
     ]
    }
   ],
   "source": [
    "tuner.search(X_train,y_train,epochs = 5,validation_data = (X_test,y_test))"
   ]
  },
  {
   "cell_type": "code",
   "execution_count": 46,
   "id": "cf83a581-1a02-46dd-af23-d6d3dea93ccb",
   "metadata": {
    "tags": []
   },
   "outputs": [
    {
     "data": {
      "text/plain": [
       "{'units': 112}"
      ]
     },
     "execution_count": 46,
     "metadata": {},
     "output_type": "execute_result"
    }
   ],
   "source": [
    "tuner.get_best_hyperparameters()[0].values"
   ]
  },
  {
   "cell_type": "code",
   "execution_count": null,
   "id": "30c1cb67-f977-4039-90a9-e9408cf45d1e",
   "metadata": {},
   "outputs": [],
   "source": []
  },
  {
   "cell_type": "code",
   "execution_count": 50,
   "id": "16eea05b-4581-462e-8830-085b18f6547e",
   "metadata": {
    "tags": []
   },
   "outputs": [],
   "source": [
    "def build_model(hp):\n",
    "    model = Sequential()\n",
    "    model.add(Dense(72,activation ='relu',input_dim = 8))\n",
    "            \n",
    "    for i in range(hp.Int('num_layers',min_value =1,max_value = 10)):\n",
    "        model.add(Dense(72,activation = 'relu'))\n",
    "              \n",
    "    model.add(Dense(1,activation = 'sigmoid'))\n",
    "    model.compile(optimizer = 'rmsprop',loss = 'binary_crossentropy',metrics=['accuracy'])\n",
    "    \n",
    "    return model\n",
    "    \n",
    "              "
   ]
  },
  {
   "cell_type": "code",
   "execution_count": 51,
   "id": "dae8cc3a-c81d-4efc-adaf-2b426464d543",
   "metadata": {
    "tags": []
   },
   "outputs": [],
   "source": [
    "tuner = kt.RandomSearch(build_model,\n",
    "                        objective='val_accuracy',\n",
    "                        max_trials=5,\n",
    "                        directory = 'mydir',\n",
    "                        project_name = 'layer_optimizer')"
   ]
  },
  {
   "cell_type": "code",
   "execution_count": 52,
   "id": "0e0a0dc8-6d6e-4075-8af3-a6faef3c8d21",
   "metadata": {
    "tags": []
   },
   "outputs": [
    {
     "name": "stdout",
     "output_type": "stream",
     "text": [
      "Trial 5 Complete [00h 00m 03s]\n",
      "val_accuracy: 0.7727272510528564\n",
      "\n",
      "Best val_accuracy So Far: 0.7792207598686218\n",
      "Total elapsed time: 00h 00m 20s\n"
     ]
    }
   ],
   "source": [
    "tuner.search(X_train,y_train,epochs = 5,validation_data=(X_test,y_test))"
   ]
  },
  {
   "cell_type": "code",
   "execution_count": null,
   "id": "fef08e84-0af5-4218-8a7a-ac596469bb73",
   "metadata": {},
   "outputs": [],
   "source": []
  },
  {
   "cell_type": "code",
   "execution_count": 53,
   "id": "3d57cec1-091e-4c07-aa3a-896e5843d171",
   "metadata": {
    "tags": []
   },
   "outputs": [
    {
     "data": {
      "text/plain": [
       "{'num_layers': 8}"
      ]
     },
     "execution_count": 53,
     "metadata": {},
     "output_type": "execute_result"
    }
   ],
   "source": [
    "tuner.get_best_hyperparameters()[0].values"
   ]
  },
  {
   "cell_type": "code",
   "execution_count": null,
   "id": "2090050c-6928-420a-95e1-ea46095aa3db",
   "metadata": {},
   "outputs": [],
   "source": []
  },
  {
   "cell_type": "code",
   "execution_count": null,
   "id": "49dd605c-5fe2-46ab-9ccf-da717993ced1",
   "metadata": {},
   "outputs": [],
   "source": []
  },
  {
   "cell_type": "code",
   "execution_count": null,
   "id": "05e52161-bce5-4876-be6c-96cb8b904432",
   "metadata": {},
   "outputs": [],
   "source": []
  },
  {
   "cell_type": "code",
   "execution_count": 85,
   "id": "e28659f6-6402-4c4f-849b-dc85b0c24922",
   "metadata": {
    "tags": []
   },
   "outputs": [],
   "source": [
    "def build_model(hp):\n",
    "    model = Sequential()\n",
    "\n",
    "    counter = 0\n",
    "    \n",
    "    for i in range(hp.Int('final',min_value = 1,max_value=10)):\n",
    "        if counter == 0:\n",
    "            \n",
    "            model.add(Dense(hp.Int('units'+str(i),min_value = 8,max_value = 128,step = 8),\n",
    "                      activation = hp.Choice('activation'+str(i),values = ['relu','tanh','sigmoid']),\n",
    "                      input_dim = 8))\n",
    "            model.add(Dropout(hp.Choice('dropout'+str(i),values = [0.1,0.2,0.3,0.4,0.5,0.6,0.7,0.8,0.9])))\n",
    "        else:\n",
    "            model.add(Dense(hp.Int('units'+str(i),min_value = 8,max_value = 128,step = 16),\n",
    "                      activation = hp.Choice('activation'+str(i),values = ['relu','tanh','sigmoid'])))\n",
    "            model.add(Dropout(hp.Choice('dropout'+str(i),values = [0.1,0.2,0.3,0.4,0.5,0.6,0.7,0.8,0.9])))\n",
    "        counter +=1   \n",
    "    model.add(Dense(1,activation = 'sigmoid'))\n",
    "    \n",
    "    model.compile(loss = 'binary_crossentropy',optimizer = hp.Choice('optimizer',values= ['adam','sgd','rmsprop','adadelta']),metrics=['accuracy'])\n",
    "    \n",
    "    return model\n",
    "            "
   ]
  },
  {
   "cell_type": "code",
   "execution_count": 86,
   "id": "f84b825c-ff1f-4955-8a61-16fea1beccf2",
   "metadata": {
    "tags": []
   },
   "outputs": [],
   "source": [
    "tuner = kt.RandomSearch(build_model,\n",
    "                        objective='val_accuracy',\n",
    "                        max_trials=5,\n",
    "                        directory = 'my_diir',\n",
    "                        project_name = 'Final2')"
   ]
  },
  {
   "cell_type": "code",
   "execution_count": 87,
   "id": "671a656b-205c-4729-9438-5178200d2b5e",
   "metadata": {
    "tags": []
   },
   "outputs": [
    {
     "name": "stdout",
     "output_type": "stream",
     "text": [
      "Trial 5 Complete [00h 00m 04s]\n",
      "val_accuracy: 0.7207792401313782\n",
      "\n",
      "Best val_accuracy So Far: 0.7207792401313782\n",
      "Total elapsed time: 00h 00m 21s\n"
     ]
    }
   ],
   "source": [
    "tuner.search(X_train,y_train,epochs = 5,validation_data = (X_test,y_test))"
   ]
  },
  {
   "cell_type": "code",
   "execution_count": 88,
   "id": "12c65478-8808-4a02-8c7e-2b21a9769eed",
   "metadata": {
    "tags": []
   },
   "outputs": [
    {
     "data": {
      "text/plain": [
       "{'final': 3,\n",
       " 'units0': 48,\n",
       " 'activation0': 'relu',\n",
       " 'dropout0': 0.4,\n",
       " 'optimizer': 'adam',\n",
       " 'units1': 72,\n",
       " 'activation1': 'tanh',\n",
       " 'dropout1': 0.3,\n",
       " 'units2': 40,\n",
       " 'activation2': 'sigmoid',\n",
       " 'dropout2': 0.5,\n",
       " 'units3': 56,\n",
       " 'activation3': 'tanh',\n",
       " 'dropout3': 0.2,\n",
       " 'units4': 56,\n",
       " 'activation4': 'sigmoid',\n",
       " 'dropout4': 0.1,\n",
       " 'units5': 40,\n",
       " 'activation5': 'tanh',\n",
       " 'dropout5': 0.3,\n",
       " 'units6': 24,\n",
       " 'activation6': 'tanh',\n",
       " 'dropout6': 0.7}"
      ]
     },
     "execution_count": 88,
     "metadata": {},
     "output_type": "execute_result"
    }
   ],
   "source": [
    "tuner.get_best_hyperparameters()[0].values\n",
    "\n",
    "\n"
   ]
  },
  {
   "cell_type": "code",
   "execution_count": null,
   "id": "5bd08b1d-7ad2-4c18-83b1-3c473adf97b0",
   "metadata": {},
   "outputs": [],
   "source": []
  },
  {
   "cell_type": "code",
   "execution_count": 89,
   "id": "d2d0d7ee-ab5b-48f9-a300-bb26b4d3e8f3",
   "metadata": {
    "tags": []
   },
   "outputs": [],
   "source": [
    "model = tuner.get_best_models(num_models=1)[0]"
   ]
  },
  {
   "cell_type": "code",
   "execution_count": 90,
   "id": "97a06ead-f715-4755-87ed-834792af3549",
   "metadata": {
    "tags": []
   },
   "outputs": [
    {
     "name": "stdout",
     "output_type": "stream",
     "text": [
      "Epoch 6/200\n",
      "20/20 [==============================] - 2s 21ms/step - loss: 0.5569 - accuracy: 0.7020 - val_loss: 0.5278 - val_accuracy: 0.7143\n",
      "Epoch 7/200\n",
      "20/20 [==============================] - 0s 6ms/step - loss: 0.5437 - accuracy: 0.7036 - val_loss: 0.5214 - val_accuracy: 0.7078\n",
      "Epoch 8/200\n",
      "20/20 [==============================] - 0s 6ms/step - loss: 0.5369 - accuracy: 0.7492 - val_loss: 0.5161 - val_accuracy: 0.7078\n",
      "Epoch 9/200\n",
      "20/20 [==============================] - 0s 7ms/step - loss: 0.5167 - accuracy: 0.7329 - val_loss: 0.5131 - val_accuracy: 0.7338\n",
      "Epoch 10/200\n",
      "20/20 [==============================] - 0s 7ms/step - loss: 0.5073 - accuracy: 0.7378 - val_loss: 0.5048 - val_accuracy: 0.7532\n",
      "Epoch 11/200\n",
      "20/20 [==============================] - 0s 6ms/step - loss: 0.5139 - accuracy: 0.7541 - val_loss: 0.5035 - val_accuracy: 0.7468\n",
      "Epoch 12/200\n",
      "20/20 [==============================] - 0s 6ms/step - loss: 0.4974 - accuracy: 0.7443 - val_loss: 0.5022 - val_accuracy: 0.7532\n",
      "Epoch 13/200\n",
      "20/20 [==============================] - 0s 6ms/step - loss: 0.5014 - accuracy: 0.7769 - val_loss: 0.4979 - val_accuracy: 0.7532\n",
      "Epoch 14/200\n",
      "20/20 [==============================] - 0s 6ms/step - loss: 0.4996 - accuracy: 0.7443 - val_loss: 0.4981 - val_accuracy: 0.7532\n",
      "Epoch 15/200\n",
      "20/20 [==============================] - 0s 6ms/step - loss: 0.4965 - accuracy: 0.7524 - val_loss: 0.5043 - val_accuracy: 0.7468\n",
      "Epoch 16/200\n",
      "20/20 [==============================] - 0s 6ms/step - loss: 0.4783 - accuracy: 0.7557 - val_loss: 0.5006 - val_accuracy: 0.7597\n",
      "Epoch 17/200\n",
      "20/20 [==============================] - 0s 6ms/step - loss: 0.5048 - accuracy: 0.7345 - val_loss: 0.5026 - val_accuracy: 0.7468\n",
      "Epoch 18/200\n",
      "20/20 [==============================] - 0s 6ms/step - loss: 0.4681 - accuracy: 0.7655 - val_loss: 0.5044 - val_accuracy: 0.7468\n",
      "Epoch 19/200\n",
      "20/20 [==============================] - 0s 6ms/step - loss: 0.4786 - accuracy: 0.7704 - val_loss: 0.5110 - val_accuracy: 0.7468\n",
      "Epoch 20/200\n",
      "20/20 [==============================] - 0s 7ms/step - loss: 0.4909 - accuracy: 0.7834 - val_loss: 0.5050 - val_accuracy: 0.7468\n",
      "Epoch 21/200\n",
      "20/20 [==============================] - 0s 6ms/step - loss: 0.4701 - accuracy: 0.7671 - val_loss: 0.5048 - val_accuracy: 0.7468\n",
      "Epoch 22/200\n",
      "20/20 [==============================] - 0s 7ms/step - loss: 0.4791 - accuracy: 0.7622 - val_loss: 0.5040 - val_accuracy: 0.7532\n",
      "Epoch 23/200\n",
      "20/20 [==============================] - 0s 6ms/step - loss: 0.4776 - accuracy: 0.7801 - val_loss: 0.5055 - val_accuracy: 0.7468\n",
      "Epoch 24/200\n",
      "20/20 [==============================] - 0s 6ms/step - loss: 0.4711 - accuracy: 0.7671 - val_loss: 0.5037 - val_accuracy: 0.7468\n",
      "Epoch 25/200\n",
      "20/20 [==============================] - 0s 7ms/step - loss: 0.4671 - accuracy: 0.7785 - val_loss: 0.5033 - val_accuracy: 0.7597\n",
      "Epoch 26/200\n",
      "20/20 [==============================] - 0s 7ms/step - loss: 0.4794 - accuracy: 0.7752 - val_loss: 0.5012 - val_accuracy: 0.7597\n",
      "Epoch 27/200\n",
      "20/20 [==============================] - 0s 6ms/step - loss: 0.4790 - accuracy: 0.7524 - val_loss: 0.5029 - val_accuracy: 0.7532\n",
      "Epoch 28/200\n",
      "20/20 [==============================] - 0s 7ms/step - loss: 0.4730 - accuracy: 0.7752 - val_loss: 0.5027 - val_accuracy: 0.7532\n",
      "Epoch 29/200\n",
      "20/20 [==============================] - 0s 7ms/step - loss: 0.4795 - accuracy: 0.7720 - val_loss: 0.5041 - val_accuracy: 0.7403\n",
      "Epoch 30/200\n",
      "20/20 [==============================] - 0s 9ms/step - loss: 0.4696 - accuracy: 0.7704 - val_loss: 0.5010 - val_accuracy: 0.7597\n",
      "Epoch 31/200\n",
      "20/20 [==============================] - 0s 7ms/step - loss: 0.4623 - accuracy: 0.7785 - val_loss: 0.5037 - val_accuracy: 0.7662\n",
      "Epoch 32/200\n",
      "20/20 [==============================] - 0s 9ms/step - loss: 0.4668 - accuracy: 0.7638 - val_loss: 0.5058 - val_accuracy: 0.7662\n",
      "Epoch 33/200\n",
      "20/20 [==============================] - 0s 8ms/step - loss: 0.4672 - accuracy: 0.7720 - val_loss: 0.5057 - val_accuracy: 0.7597\n",
      "Epoch 34/200\n",
      "20/20 [==============================] - 0s 6ms/step - loss: 0.4706 - accuracy: 0.7622 - val_loss: 0.5085 - val_accuracy: 0.7597\n",
      "Epoch 35/200\n",
      "20/20 [==============================] - 0s 9ms/step - loss: 0.4550 - accuracy: 0.7850 - val_loss: 0.5097 - val_accuracy: 0.7468\n",
      "Epoch 36/200\n",
      "20/20 [==============================] - 0s 9ms/step - loss: 0.4609 - accuracy: 0.7736 - val_loss: 0.5077 - val_accuracy: 0.7662\n",
      "Epoch 37/200\n",
      "20/20 [==============================] - 0s 8ms/step - loss: 0.4659 - accuracy: 0.7573 - val_loss: 0.5081 - val_accuracy: 0.7597\n",
      "Epoch 38/200\n",
      "20/20 [==============================] - 0s 6ms/step - loss: 0.4547 - accuracy: 0.7850 - val_loss: 0.5100 - val_accuracy: 0.7662\n",
      "Epoch 39/200\n",
      "20/20 [==============================] - 0s 7ms/step - loss: 0.4790 - accuracy: 0.7671 - val_loss: 0.5090 - val_accuracy: 0.7597\n",
      "Epoch 40/200\n",
      "20/20 [==============================] - 0s 6ms/step - loss: 0.4689 - accuracy: 0.7720 - val_loss: 0.5111 - val_accuracy: 0.7468\n",
      "Epoch 41/200\n",
      "20/20 [==============================] - 0s 7ms/step - loss: 0.4518 - accuracy: 0.7932 - val_loss: 0.5114 - val_accuracy: 0.7403\n",
      "Epoch 42/200\n",
      "20/20 [==============================] - 0s 7ms/step - loss: 0.4528 - accuracy: 0.7655 - val_loss: 0.5138 - val_accuracy: 0.7532\n",
      "Epoch 43/200\n",
      "20/20 [==============================] - 0s 8ms/step - loss: 0.4558 - accuracy: 0.7866 - val_loss: 0.5152 - val_accuracy: 0.7468\n",
      "Epoch 44/200\n",
      "20/20 [==============================] - 0s 7ms/step - loss: 0.4601 - accuracy: 0.7671 - val_loss: 0.5112 - val_accuracy: 0.7662\n",
      "Epoch 45/200\n",
      "20/20 [==============================] - 0s 6ms/step - loss: 0.4500 - accuracy: 0.7801 - val_loss: 0.5125 - val_accuracy: 0.7468\n",
      "Epoch 46/200\n",
      "20/20 [==============================] - 0s 6ms/step - loss: 0.4547 - accuracy: 0.7899 - val_loss: 0.5146 - val_accuracy: 0.7597\n",
      "Epoch 47/200\n",
      "20/20 [==============================] - 0s 6ms/step - loss: 0.4483 - accuracy: 0.7997 - val_loss: 0.5170 - val_accuracy: 0.7597\n",
      "Epoch 48/200\n",
      "20/20 [==============================] - 0s 6ms/step - loss: 0.4435 - accuracy: 0.7785 - val_loss: 0.5162 - val_accuracy: 0.7532\n",
      "Epoch 49/200\n",
      "20/20 [==============================] - 0s 6ms/step - loss: 0.4650 - accuracy: 0.7883 - val_loss: 0.5158 - val_accuracy: 0.7597\n",
      "Epoch 50/200\n",
      "20/20 [==============================] - 0s 6ms/step - loss: 0.4458 - accuracy: 0.7883 - val_loss: 0.5133 - val_accuracy: 0.7597\n",
      "Epoch 51/200\n",
      "20/20 [==============================] - 0s 6ms/step - loss: 0.4445 - accuracy: 0.7736 - val_loss: 0.5162 - val_accuracy: 0.7597\n",
      "Epoch 52/200\n",
      "20/20 [==============================] - 0s 7ms/step - loss: 0.4433 - accuracy: 0.7997 - val_loss: 0.5180 - val_accuracy: 0.7597\n",
      "Epoch 53/200\n",
      "20/20 [==============================] - 0s 7ms/step - loss: 0.4720 - accuracy: 0.7769 - val_loss: 0.5155 - val_accuracy: 0.7532\n",
      "Epoch 54/200\n",
      "20/20 [==============================] - 0s 7ms/step - loss: 0.4341 - accuracy: 0.8029 - val_loss: 0.5165 - val_accuracy: 0.7532\n",
      "Epoch 55/200\n",
      "20/20 [==============================] - 0s 7ms/step - loss: 0.4516 - accuracy: 0.7997 - val_loss: 0.5186 - val_accuracy: 0.7468\n",
      "Epoch 56/200\n",
      "20/20 [==============================] - 0s 7ms/step - loss: 0.4409 - accuracy: 0.7899 - val_loss: 0.5197 - val_accuracy: 0.7532\n",
      "Epoch 57/200\n",
      "20/20 [==============================] - 0s 7ms/step - loss: 0.4538 - accuracy: 0.7769 - val_loss: 0.5181 - val_accuracy: 0.7532\n",
      "Epoch 58/200\n",
      "20/20 [==============================] - 0s 7ms/step - loss: 0.4629 - accuracy: 0.7720 - val_loss: 0.5148 - val_accuracy: 0.7597\n",
      "Epoch 59/200\n",
      "20/20 [==============================] - 0s 7ms/step - loss: 0.4513 - accuracy: 0.7899 - val_loss: 0.5146 - val_accuracy: 0.7532\n",
      "Epoch 60/200\n",
      "20/20 [==============================] - 0s 6ms/step - loss: 0.4519 - accuracy: 0.7736 - val_loss: 0.5120 - val_accuracy: 0.7532\n",
      "Epoch 61/200\n",
      "20/20 [==============================] - 0s 7ms/step - loss: 0.4510 - accuracy: 0.7785 - val_loss: 0.5137 - val_accuracy: 0.7662\n",
      "Epoch 62/200\n",
      "20/20 [==============================] - 0s 9ms/step - loss: 0.4468 - accuracy: 0.7834 - val_loss: 0.5148 - val_accuracy: 0.7597\n",
      "Epoch 63/200\n",
      "20/20 [==============================] - 0s 7ms/step - loss: 0.4514 - accuracy: 0.7785 - val_loss: 0.5154 - val_accuracy: 0.7662\n",
      "Epoch 64/200\n",
      "20/20 [==============================] - 0s 6ms/step - loss: 0.4457 - accuracy: 0.7915 - val_loss: 0.5116 - val_accuracy: 0.7662\n",
      "Epoch 65/200\n",
      "20/20 [==============================] - 0s 6ms/step - loss: 0.4450 - accuracy: 0.7850 - val_loss: 0.5145 - val_accuracy: 0.7597\n",
      "Epoch 66/200\n",
      "20/20 [==============================] - 0s 6ms/step - loss: 0.4428 - accuracy: 0.7818 - val_loss: 0.5171 - val_accuracy: 0.7597\n",
      "Epoch 67/200\n",
      "20/20 [==============================] - 0s 7ms/step - loss: 0.4392 - accuracy: 0.7850 - val_loss: 0.5159 - val_accuracy: 0.7597\n",
      "Epoch 68/200\n",
      "20/20 [==============================] - 0s 6ms/step - loss: 0.4334 - accuracy: 0.7866 - val_loss: 0.5177 - val_accuracy: 0.7662\n",
      "Epoch 69/200\n",
      "20/20 [==============================] - 0s 7ms/step - loss: 0.4474 - accuracy: 0.7801 - val_loss: 0.5187 - val_accuracy: 0.7597\n",
      "Epoch 70/200\n",
      "20/20 [==============================] - 0s 6ms/step - loss: 0.4459 - accuracy: 0.7964 - val_loss: 0.5155 - val_accuracy: 0.7662\n",
      "Epoch 71/200\n",
      "20/20 [==============================] - 0s 6ms/step - loss: 0.4430 - accuracy: 0.7948 - val_loss: 0.5171 - val_accuracy: 0.7532\n",
      "Epoch 72/200\n",
      "20/20 [==============================] - 0s 6ms/step - loss: 0.4492 - accuracy: 0.7752 - val_loss: 0.5147 - val_accuracy: 0.7597\n",
      "Epoch 73/200\n",
      "20/20 [==============================] - 0s 7ms/step - loss: 0.4425 - accuracy: 0.7980 - val_loss: 0.5149 - val_accuracy: 0.7662\n",
      "Epoch 74/200\n",
      "20/20 [==============================] - 0s 6ms/step - loss: 0.4467 - accuracy: 0.7834 - val_loss: 0.5133 - val_accuracy: 0.7662\n",
      "Epoch 75/200\n",
      "20/20 [==============================] - 0s 6ms/step - loss: 0.4316 - accuracy: 0.7834 - val_loss: 0.5152 - val_accuracy: 0.7662\n",
      "Epoch 76/200\n",
      "20/20 [==============================] - 0s 7ms/step - loss: 0.4472 - accuracy: 0.7866 - val_loss: 0.5149 - val_accuracy: 0.7662\n",
      "Epoch 77/200\n",
      "20/20 [==============================] - 0s 7ms/step - loss: 0.4311 - accuracy: 0.7964 - val_loss: 0.5186 - val_accuracy: 0.7597\n",
      "Epoch 78/200\n",
      "20/20 [==============================] - 0s 9ms/step - loss: 0.4496 - accuracy: 0.7850 - val_loss: 0.5142 - val_accuracy: 0.7597\n",
      "Epoch 79/200\n",
      "20/20 [==============================] - 0s 9ms/step - loss: 0.4396 - accuracy: 0.7915 - val_loss: 0.5105 - val_accuracy: 0.7662\n",
      "Epoch 80/200\n",
      "20/20 [==============================] - 0s 9ms/step - loss: 0.4356 - accuracy: 0.7915 - val_loss: 0.5117 - val_accuracy: 0.7662\n",
      "Epoch 81/200\n",
      "20/20 [==============================] - 0s 9ms/step - loss: 0.4329 - accuracy: 0.7932 - val_loss: 0.5173 - val_accuracy: 0.7597\n",
      "Epoch 82/200\n",
      "20/20 [==============================] - 0s 6ms/step - loss: 0.4347 - accuracy: 0.7866 - val_loss: 0.5173 - val_accuracy: 0.7597\n",
      "Epoch 83/200\n",
      "20/20 [==============================] - 0s 6ms/step - loss: 0.4312 - accuracy: 0.7932 - val_loss: 0.5167 - val_accuracy: 0.7532\n",
      "Epoch 84/200\n",
      "20/20 [==============================] - 0s 6ms/step - loss: 0.4300 - accuracy: 0.7818 - val_loss: 0.5224 - val_accuracy: 0.7532\n",
      "Epoch 85/200\n",
      "20/20 [==============================] - 0s 7ms/step - loss: 0.4262 - accuracy: 0.7866 - val_loss: 0.5191 - val_accuracy: 0.7662\n",
      "Epoch 86/200\n",
      "20/20 [==============================] - 0s 6ms/step - loss: 0.4459 - accuracy: 0.7801 - val_loss: 0.5153 - val_accuracy: 0.7662\n",
      "Epoch 87/200\n",
      "20/20 [==============================] - 0s 7ms/step - loss: 0.4427 - accuracy: 0.7915 - val_loss: 0.5153 - val_accuracy: 0.7532\n",
      "Epoch 88/200\n",
      "20/20 [==============================] - 0s 8ms/step - loss: 0.4270 - accuracy: 0.7997 - val_loss: 0.5126 - val_accuracy: 0.7532\n",
      "Epoch 89/200\n",
      "20/20 [==============================] - 0s 9ms/step - loss: 0.4399 - accuracy: 0.7801 - val_loss: 0.5127 - val_accuracy: 0.7468\n",
      "Epoch 90/200\n",
      "20/20 [==============================] - 0s 9ms/step - loss: 0.4180 - accuracy: 0.8013 - val_loss: 0.5160 - val_accuracy: 0.7532\n",
      "Epoch 91/200\n",
      "20/20 [==============================] - 0s 9ms/step - loss: 0.4423 - accuracy: 0.7980 - val_loss: 0.5113 - val_accuracy: 0.7662\n",
      "Epoch 92/200\n",
      "20/20 [==============================] - 0s 9ms/step - loss: 0.4230 - accuracy: 0.8143 - val_loss: 0.5115 - val_accuracy: 0.7597\n",
      "Epoch 93/200\n",
      "20/20 [==============================] - 0s 10ms/step - loss: 0.4252 - accuracy: 0.7948 - val_loss: 0.5090 - val_accuracy: 0.7597\n",
      "Epoch 94/200\n",
      "20/20 [==============================] - 0s 10ms/step - loss: 0.4445 - accuracy: 0.7899 - val_loss: 0.5124 - val_accuracy: 0.7532\n",
      "Epoch 95/200\n",
      "20/20 [==============================] - 0s 7ms/step - loss: 0.4282 - accuracy: 0.7932 - val_loss: 0.5122 - val_accuracy: 0.7597\n",
      "Epoch 96/200\n",
      "20/20 [==============================] - 0s 7ms/step - loss: 0.4176 - accuracy: 0.8127 - val_loss: 0.5106 - val_accuracy: 0.7662\n",
      "Epoch 97/200\n",
      "20/20 [==============================] - 0s 9ms/step - loss: 0.4529 - accuracy: 0.7671 - val_loss: 0.5094 - val_accuracy: 0.7662\n",
      "Epoch 98/200\n",
      "20/20 [==============================] - 0s 8ms/step - loss: 0.4507 - accuracy: 0.7785 - val_loss: 0.5106 - val_accuracy: 0.7662\n",
      "Epoch 99/200\n",
      "20/20 [==============================] - 0s 9ms/step - loss: 0.4595 - accuracy: 0.7785 - val_loss: 0.5072 - val_accuracy: 0.7597\n",
      "Epoch 100/200\n",
      "20/20 [==============================] - 0s 7ms/step - loss: 0.4318 - accuracy: 0.8013 - val_loss: 0.5099 - val_accuracy: 0.7597\n",
      "Epoch 101/200\n",
      "20/20 [==============================] - 0s 7ms/step - loss: 0.4334 - accuracy: 0.7980 - val_loss: 0.5142 - val_accuracy: 0.7597\n",
      "Epoch 102/200\n",
      "20/20 [==============================] - 0s 6ms/step - loss: 0.4361 - accuracy: 0.7866 - val_loss: 0.5157 - val_accuracy: 0.7597\n",
      "Epoch 103/200\n",
      "20/20 [==============================] - 0s 8ms/step - loss: 0.4389 - accuracy: 0.7736 - val_loss: 0.5170 - val_accuracy: 0.7597\n",
      "Epoch 104/200\n",
      "20/20 [==============================] - 0s 8ms/step - loss: 0.4246 - accuracy: 0.7948 - val_loss: 0.5168 - val_accuracy: 0.7662\n",
      "Epoch 105/200\n",
      "20/20 [==============================] - 0s 6ms/step - loss: 0.4342 - accuracy: 0.7769 - val_loss: 0.5195 - val_accuracy: 0.7597\n",
      "Epoch 106/200\n",
      "20/20 [==============================] - 0s 7ms/step - loss: 0.4261 - accuracy: 0.7866 - val_loss: 0.5211 - val_accuracy: 0.7532\n",
      "Epoch 107/200\n",
      "20/20 [==============================] - 0s 6ms/step - loss: 0.4260 - accuracy: 0.7997 - val_loss: 0.5198 - val_accuracy: 0.7662\n",
      "Epoch 108/200\n",
      "20/20 [==============================] - 0s 6ms/step - loss: 0.4160 - accuracy: 0.8046 - val_loss: 0.5179 - val_accuracy: 0.7662\n",
      "Epoch 109/200\n",
      "20/20 [==============================] - 0s 6ms/step - loss: 0.4304 - accuracy: 0.8046 - val_loss: 0.5178 - val_accuracy: 0.7662\n",
      "Epoch 110/200\n",
      "20/20 [==============================] - 0s 7ms/step - loss: 0.4215 - accuracy: 0.8078 - val_loss: 0.5161 - val_accuracy: 0.7662\n",
      "Epoch 111/200\n",
      "20/20 [==============================] - 0s 8ms/step - loss: 0.4428 - accuracy: 0.7834 - val_loss: 0.5149 - val_accuracy: 0.7727\n",
      "Epoch 112/200\n",
      "20/20 [==============================] - 0s 8ms/step - loss: 0.4305 - accuracy: 0.7964 - val_loss: 0.5179 - val_accuracy: 0.7727\n",
      "Epoch 113/200\n",
      "20/20 [==============================] - 0s 6ms/step - loss: 0.4196 - accuracy: 0.7932 - val_loss: 0.5176 - val_accuracy: 0.7662\n",
      "Epoch 114/200\n",
      "20/20 [==============================] - 0s 6ms/step - loss: 0.4125 - accuracy: 0.7932 - val_loss: 0.5186 - val_accuracy: 0.7597\n",
      "Epoch 115/200\n",
      "20/20 [==============================] - 0s 6ms/step - loss: 0.4192 - accuracy: 0.8013 - val_loss: 0.5235 - val_accuracy: 0.7597\n",
      "Epoch 116/200\n",
      "20/20 [==============================] - 0s 6ms/step - loss: 0.4218 - accuracy: 0.7785 - val_loss: 0.5243 - val_accuracy: 0.7662\n",
      "Epoch 117/200\n",
      "20/20 [==============================] - 0s 8ms/step - loss: 0.4250 - accuracy: 0.7932 - val_loss: 0.5232 - val_accuracy: 0.7662\n",
      "Epoch 118/200\n",
      "20/20 [==============================] - 0s 8ms/step - loss: 0.4172 - accuracy: 0.8029 - val_loss: 0.5204 - val_accuracy: 0.7662\n",
      "Epoch 119/200\n",
      "20/20 [==============================] - 0s 6ms/step - loss: 0.4297 - accuracy: 0.7866 - val_loss: 0.5177 - val_accuracy: 0.7597\n",
      "Epoch 120/200\n",
      "20/20 [==============================] - 0s 7ms/step - loss: 0.4278 - accuracy: 0.7850 - val_loss: 0.5210 - val_accuracy: 0.7597\n",
      "Epoch 121/200\n",
      "20/20 [==============================] - 0s 6ms/step - loss: 0.4340 - accuracy: 0.7834 - val_loss: 0.5184 - val_accuracy: 0.7662\n",
      "Epoch 122/200\n",
      "20/20 [==============================] - 0s 6ms/step - loss: 0.4114 - accuracy: 0.8192 - val_loss: 0.5204 - val_accuracy: 0.7532\n",
      "Epoch 123/200\n",
      "20/20 [==============================] - 0s 6ms/step - loss: 0.4323 - accuracy: 0.7932 - val_loss: 0.5226 - val_accuracy: 0.7597\n",
      "Epoch 124/200\n",
      "20/20 [==============================] - 0s 6ms/step - loss: 0.4123 - accuracy: 0.7980 - val_loss: 0.5234 - val_accuracy: 0.7662\n",
      "Epoch 125/200\n",
      "20/20 [==============================] - 0s 6ms/step - loss: 0.4244 - accuracy: 0.7932 - val_loss: 0.5181 - val_accuracy: 0.7597\n",
      "Epoch 126/200\n",
      "20/20 [==============================] - 0s 7ms/step - loss: 0.4197 - accuracy: 0.8160 - val_loss: 0.5168 - val_accuracy: 0.7727\n",
      "Epoch 127/200\n",
      "20/20 [==============================] - 0s 8ms/step - loss: 0.4233 - accuracy: 0.7932 - val_loss: 0.5190 - val_accuracy: 0.7727\n",
      "Epoch 128/200\n",
      "20/20 [==============================] - 0s 6ms/step - loss: 0.4296 - accuracy: 0.7948 - val_loss: 0.5186 - val_accuracy: 0.7662\n",
      "Epoch 129/200\n",
      "20/20 [==============================] - 0s 6ms/step - loss: 0.4075 - accuracy: 0.8078 - val_loss: 0.5200 - val_accuracy: 0.7727\n",
      "Epoch 130/200\n",
      "20/20 [==============================] - 0s 6ms/step - loss: 0.4265 - accuracy: 0.8176 - val_loss: 0.5180 - val_accuracy: 0.7662\n",
      "Epoch 131/200\n",
      "20/20 [==============================] - 0s 7ms/step - loss: 0.4096 - accuracy: 0.7948 - val_loss: 0.5189 - val_accuracy: 0.7662\n",
      "Epoch 132/200\n",
      "20/20 [==============================] - 0s 6ms/step - loss: 0.4174 - accuracy: 0.8225 - val_loss: 0.5186 - val_accuracy: 0.7727\n",
      "Epoch 133/200\n",
      "20/20 [==============================] - 0s 8ms/step - loss: 0.4187 - accuracy: 0.7997 - val_loss: 0.5168 - val_accuracy: 0.7662\n",
      "Epoch 134/200\n",
      "20/20 [==============================] - 0s 7ms/step - loss: 0.4247 - accuracy: 0.7997 - val_loss: 0.5163 - val_accuracy: 0.7727\n",
      "Epoch 135/200\n",
      "20/20 [==============================] - 0s 6ms/step - loss: 0.4256 - accuracy: 0.7932 - val_loss: 0.5191 - val_accuracy: 0.7792\n",
      "Epoch 136/200\n",
      "20/20 [==============================] - 0s 7ms/step - loss: 0.4238 - accuracy: 0.7866 - val_loss: 0.5188 - val_accuracy: 0.7727\n",
      "Epoch 137/200\n",
      "20/20 [==============================] - 0s 7ms/step - loss: 0.4233 - accuracy: 0.7948 - val_loss: 0.5152 - val_accuracy: 0.7727\n",
      "Epoch 138/200\n",
      "20/20 [==============================] - 0s 8ms/step - loss: 0.4264 - accuracy: 0.8094 - val_loss: 0.5173 - val_accuracy: 0.7792\n",
      "Epoch 139/200\n",
      "20/20 [==============================] - 0s 10ms/step - loss: 0.4236 - accuracy: 0.7980 - val_loss: 0.5181 - val_accuracy: 0.7792\n",
      "Epoch 140/200\n",
      "20/20 [==============================] - 0s 6ms/step - loss: 0.4130 - accuracy: 0.8160 - val_loss: 0.5142 - val_accuracy: 0.7792\n",
      "Epoch 141/200\n",
      "20/20 [==============================] - 0s 8ms/step - loss: 0.4103 - accuracy: 0.8143 - val_loss: 0.5174 - val_accuracy: 0.7727\n",
      "Epoch 142/200\n",
      "20/20 [==============================] - 0s 7ms/step - loss: 0.4212 - accuracy: 0.7818 - val_loss: 0.5150 - val_accuracy: 0.7662\n",
      "Epoch 143/200\n",
      "20/20 [==============================] - 0s 7ms/step - loss: 0.4235 - accuracy: 0.8192 - val_loss: 0.5151 - val_accuracy: 0.7662\n",
      "Epoch 144/200\n",
      "20/20 [==============================] - 0s 7ms/step - loss: 0.4179 - accuracy: 0.8062 - val_loss: 0.5173 - val_accuracy: 0.7662\n",
      "Epoch 145/200\n",
      "20/20 [==============================] - 0s 7ms/step - loss: 0.4171 - accuracy: 0.7932 - val_loss: 0.5182 - val_accuracy: 0.7727\n",
      "Epoch 146/200\n",
      "20/20 [==============================] - 0s 8ms/step - loss: 0.4132 - accuracy: 0.8029 - val_loss: 0.5187 - val_accuracy: 0.7662\n",
      "Epoch 147/200\n",
      "20/20 [==============================] - 0s 7ms/step - loss: 0.4174 - accuracy: 0.8094 - val_loss: 0.5185 - val_accuracy: 0.7792\n",
      "Epoch 148/200\n",
      "20/20 [==============================] - 0s 8ms/step - loss: 0.4399 - accuracy: 0.7834 - val_loss: 0.5175 - val_accuracy: 0.7662\n",
      "Epoch 149/200\n",
      "20/20 [==============================] - 0s 8ms/step - loss: 0.4294 - accuracy: 0.8160 - val_loss: 0.5154 - val_accuracy: 0.7597\n",
      "Epoch 150/200\n",
      "20/20 [==============================] - 0s 5ms/step - loss: 0.4132 - accuracy: 0.7997 - val_loss: 0.5147 - val_accuracy: 0.7597\n",
      "Epoch 151/200\n",
      "20/20 [==============================] - 0s 6ms/step - loss: 0.4116 - accuracy: 0.8094 - val_loss: 0.5193 - val_accuracy: 0.7662\n",
      "Epoch 152/200\n",
      "20/20 [==============================] - 0s 7ms/step - loss: 0.3994 - accuracy: 0.8062 - val_loss: 0.5189 - val_accuracy: 0.7792\n",
      "Epoch 153/200\n",
      "20/20 [==============================] - 0s 6ms/step - loss: 0.3896 - accuracy: 0.7964 - val_loss: 0.5200 - val_accuracy: 0.7662\n",
      "Epoch 154/200\n",
      "20/20 [==============================] - 0s 6ms/step - loss: 0.4203 - accuracy: 0.7997 - val_loss: 0.5242 - val_accuracy: 0.7727\n",
      "Epoch 155/200\n",
      "20/20 [==============================] - 0s 6ms/step - loss: 0.4090 - accuracy: 0.8225 - val_loss: 0.5260 - val_accuracy: 0.7597\n",
      "Epoch 156/200\n",
      "20/20 [==============================] - 0s 6ms/step - loss: 0.4113 - accuracy: 0.8208 - val_loss: 0.5261 - val_accuracy: 0.7597\n",
      "Epoch 157/200\n",
      "20/20 [==============================] - 0s 6ms/step - loss: 0.4278 - accuracy: 0.7997 - val_loss: 0.5266 - val_accuracy: 0.7662\n",
      "Epoch 158/200\n",
      "20/20 [==============================] - 0s 5ms/step - loss: 0.4164 - accuracy: 0.8094 - val_loss: 0.5205 - val_accuracy: 0.7662\n",
      "Epoch 159/200\n",
      "20/20 [==============================] - 0s 6ms/step - loss: 0.4127 - accuracy: 0.8078 - val_loss: 0.5220 - val_accuracy: 0.7727\n",
      "Epoch 160/200\n",
      "20/20 [==============================] - 0s 6ms/step - loss: 0.4253 - accuracy: 0.7899 - val_loss: 0.5194 - val_accuracy: 0.7597\n",
      "Epoch 161/200\n",
      "20/20 [==============================] - 0s 7ms/step - loss: 0.4234 - accuracy: 0.7997 - val_loss: 0.5202 - val_accuracy: 0.7662\n",
      "Epoch 162/200\n",
      "20/20 [==============================] - 0s 7ms/step - loss: 0.4130 - accuracy: 0.8160 - val_loss: 0.5266 - val_accuracy: 0.7597\n",
      "Epoch 163/200\n",
      "20/20 [==============================] - 0s 7ms/step - loss: 0.4086 - accuracy: 0.8176 - val_loss: 0.5313 - val_accuracy: 0.7597\n",
      "Epoch 164/200\n",
      "20/20 [==============================] - 0s 7ms/step - loss: 0.4161 - accuracy: 0.8127 - val_loss: 0.5267 - val_accuracy: 0.7532\n",
      "Epoch 165/200\n",
      "20/20 [==============================] - 0s 6ms/step - loss: 0.4088 - accuracy: 0.8013 - val_loss: 0.5257 - val_accuracy: 0.7532\n",
      "Epoch 166/200\n",
      "20/20 [==============================] - 0s 7ms/step - loss: 0.4252 - accuracy: 0.8046 - val_loss: 0.5238 - val_accuracy: 0.7597\n",
      "Epoch 167/200\n",
      "20/20 [==============================] - 0s 8ms/step - loss: 0.4010 - accuracy: 0.8160 - val_loss: 0.5203 - val_accuracy: 0.7532\n",
      "Epoch 168/200\n",
      "20/20 [==============================] - 0s 6ms/step - loss: 0.3848 - accuracy: 0.8029 - val_loss: 0.5252 - val_accuracy: 0.7532\n",
      "Epoch 169/200\n",
      "20/20 [==============================] - 0s 6ms/step - loss: 0.4031 - accuracy: 0.8111 - val_loss: 0.5286 - val_accuracy: 0.7597\n",
      "Epoch 170/200\n",
      "20/20 [==============================] - 0s 6ms/step - loss: 0.4154 - accuracy: 0.7997 - val_loss: 0.5320 - val_accuracy: 0.7468\n",
      "Epoch 171/200\n",
      "20/20 [==============================] - 0s 7ms/step - loss: 0.4236 - accuracy: 0.7801 - val_loss: 0.5286 - val_accuracy: 0.7403\n",
      "Epoch 172/200\n",
      "20/20 [==============================] - 0s 6ms/step - loss: 0.4098 - accuracy: 0.7850 - val_loss: 0.5215 - val_accuracy: 0.7597\n",
      "Epoch 173/200\n",
      "20/20 [==============================] - 0s 9ms/step - loss: 0.4096 - accuracy: 0.7997 - val_loss: 0.5259 - val_accuracy: 0.7597\n",
      "Epoch 174/200\n",
      "20/20 [==============================] - 0s 9ms/step - loss: 0.4090 - accuracy: 0.8062 - val_loss: 0.5221 - val_accuracy: 0.7662\n",
      "Epoch 175/200\n",
      "20/20 [==============================] - 0s 7ms/step - loss: 0.4189 - accuracy: 0.7997 - val_loss: 0.5198 - val_accuracy: 0.7597\n",
      "Epoch 176/200\n",
      "20/20 [==============================] - 0s 7ms/step - loss: 0.3946 - accuracy: 0.8094 - val_loss: 0.5214 - val_accuracy: 0.7403\n",
      "Epoch 177/200\n",
      "20/20 [==============================] - 0s 6ms/step - loss: 0.4229 - accuracy: 0.7915 - val_loss: 0.5223 - val_accuracy: 0.7403\n",
      "Epoch 178/200\n",
      "20/20 [==============================] - 0s 6ms/step - loss: 0.3993 - accuracy: 0.8274 - val_loss: 0.5236 - val_accuracy: 0.7468\n",
      "Epoch 179/200\n",
      "20/20 [==============================] - 0s 6ms/step - loss: 0.4171 - accuracy: 0.8094 - val_loss: 0.5213 - val_accuracy: 0.7597\n",
      "Epoch 180/200\n",
      "20/20 [==============================] - 0s 7ms/step - loss: 0.4180 - accuracy: 0.8062 - val_loss: 0.5200 - val_accuracy: 0.7532\n",
      "Epoch 181/200\n",
      "20/20 [==============================] - 0s 6ms/step - loss: 0.4203 - accuracy: 0.7899 - val_loss: 0.5233 - val_accuracy: 0.7597\n",
      "Epoch 182/200\n",
      "20/20 [==============================] - 0s 5ms/step - loss: 0.4110 - accuracy: 0.8127 - val_loss: 0.5222 - val_accuracy: 0.7597\n",
      "Epoch 183/200\n",
      "20/20 [==============================] - 0s 7ms/step - loss: 0.3997 - accuracy: 0.8013 - val_loss: 0.5227 - val_accuracy: 0.7468\n",
      "Epoch 184/200\n",
      "20/20 [==============================] - 0s 8ms/step - loss: 0.4078 - accuracy: 0.8111 - val_loss: 0.5154 - val_accuracy: 0.7597\n",
      "Epoch 185/200\n",
      "20/20 [==============================] - 0s 8ms/step - loss: 0.4223 - accuracy: 0.8062 - val_loss: 0.5144 - val_accuracy: 0.7727\n",
      "Epoch 186/200\n",
      "20/20 [==============================] - 0s 7ms/step - loss: 0.4191 - accuracy: 0.7948 - val_loss: 0.5190 - val_accuracy: 0.7532\n",
      "Epoch 187/200\n",
      "20/20 [==============================] - 0s 6ms/step - loss: 0.4092 - accuracy: 0.8225 - val_loss: 0.5188 - val_accuracy: 0.7662\n",
      "Epoch 188/200\n",
      "20/20 [==============================] - 0s 8ms/step - loss: 0.4221 - accuracy: 0.7915 - val_loss: 0.5191 - val_accuracy: 0.7662\n",
      "Epoch 189/200\n",
      "20/20 [==============================] - 0s 7ms/step - loss: 0.4019 - accuracy: 0.8208 - val_loss: 0.5230 - val_accuracy: 0.7532\n",
      "Epoch 190/200\n",
      "20/20 [==============================] - 0s 6ms/step - loss: 0.4039 - accuracy: 0.8160 - val_loss: 0.5293 - val_accuracy: 0.7532\n",
      "Epoch 191/200\n",
      "20/20 [==============================] - 0s 6ms/step - loss: 0.3944 - accuracy: 0.8208 - val_loss: 0.5304 - val_accuracy: 0.7532\n",
      "Epoch 192/200\n",
      "20/20 [==============================] - 0s 6ms/step - loss: 0.4084 - accuracy: 0.8143 - val_loss: 0.5227 - val_accuracy: 0.7662\n",
      "Epoch 193/200\n",
      "20/20 [==============================] - 0s 7ms/step - loss: 0.4003 - accuracy: 0.8046 - val_loss: 0.5255 - val_accuracy: 0.7597\n",
      "Epoch 194/200\n",
      "20/20 [==============================] - 0s 6ms/step - loss: 0.4148 - accuracy: 0.8111 - val_loss: 0.5260 - val_accuracy: 0.7468\n",
      "Epoch 195/200\n",
      "20/20 [==============================] - 0s 6ms/step - loss: 0.3758 - accuracy: 0.8078 - val_loss: 0.5319 - val_accuracy: 0.7468\n",
      "Epoch 196/200\n",
      "20/20 [==============================] - 0s 6ms/step - loss: 0.3939 - accuracy: 0.8111 - val_loss: 0.5301 - val_accuracy: 0.7468\n",
      "Epoch 197/200\n",
      "20/20 [==============================] - 0s 8ms/step - loss: 0.4009 - accuracy: 0.8241 - val_loss: 0.5303 - val_accuracy: 0.7468\n",
      "Epoch 198/200\n",
      "20/20 [==============================] - 0s 7ms/step - loss: 0.4070 - accuracy: 0.8029 - val_loss: 0.5274 - val_accuracy: 0.7532\n",
      "Epoch 199/200\n",
      "20/20 [==============================] - 0s 6ms/step - loss: 0.3894 - accuracy: 0.8192 - val_loss: 0.5302 - val_accuracy: 0.7468\n",
      "Epoch 200/200\n",
      "20/20 [==============================] - 0s 7ms/step - loss: 0.4023 - accuracy: 0.8160 - val_loss: 0.5282 - val_accuracy: 0.7532\n"
     ]
    },
    {
     "data": {
      "text/plain": [
       "<keras.src.callbacks.History at 0x261edaed6d0>"
      ]
     },
     "execution_count": 90,
     "metadata": {},
     "output_type": "execute_result"
    }
   ],
   "source": [
    "model.fit(X_train,y_train,epochs = 200,initial_epoch=5,validation_data=(X_test,y_test))"
   ]
  },
  {
   "cell_type": "code",
   "execution_count": null,
   "id": "9bf10e32-b6cc-4ced-871a-d8891f214700",
   "metadata": {},
   "outputs": [],
   "source": []
  }
 ],
 "metadata": {
  "kernelspec": {
   "display_name": "Python 3 (ipykernel)",
   "language": "python",
   "name": "python3"
  },
  "language_info": {
   "codemirror_mode": {
    "name": "ipython",
    "version": 3
   },
   "file_extension": ".py",
   "mimetype": "text/x-python",
   "name": "python",
   "nbconvert_exporter": "python",
   "pygments_lexer": "ipython3",
   "version": "3.11.3"
  }
 },
 "nbformat": 4,
 "nbformat_minor": 5
}
